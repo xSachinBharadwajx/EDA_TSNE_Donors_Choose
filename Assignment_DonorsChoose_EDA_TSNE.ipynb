{
 "cells": [
  {
   "cell_type": "markdown",
   "metadata": {
    "colab_type": "text",
    "id": "nvM2d9gKaJaS"
   },
   "source": [
    "# DonorsChoose"
   ]
  },
  {
   "cell_type": "markdown",
   "metadata": {
    "colab_type": "text",
    "id": "zt7ZdX4-aJaV"
   },
   "source": [
    "<p>\n",
    "DonorsChoose.org receives hundreds of thousands of project proposals each year for classroom projects in need of funding. Right now, a large number of volunteers is needed to manually screen each submission before it's approved to be posted on the DonorsChoose.org website.\n",
    "</p>\n",
    "<p>\n",
    "    Next year, DonorsChoose.org expects to receive close to 500,000 project proposals. As a result, there are three main problems they need to solve:\n",
    "<ul>\n",
    "<li>\n",
    "    How to scale current manual processes and resources to screen 500,000 projects so that they can be posted as quickly and as efficiently as possible</li>\n",
    "    <li>How to increase the consistency of project vetting across different volunteers to improve the experience for teachers</li>\n",
    "    <li>How to focus volunteer time on the applications that need the most assistance</li>\n",
    "    </ul>\n",
    "</p>    \n",
    "<p>\n",
    "The goal of the competition is to predict whether or not a DonorsChoose.org project proposal submitted by a teacher will be approved, using the text of project descriptions as well as additional metadata about the project, teacher, and school. DonorsChoose.org can then use this information to identify projects most likely to need further review before approval.\n",
    "</p>"
   ]
  },
  {
   "cell_type": "markdown",
   "metadata": {
    "colab_type": "text",
    "id": "BrEvnJMGaJaZ"
   },
   "source": [
    "## About the DonorsChoose Data Set\n",
    "\n",
    "The `train.csv` data set provided by DonorsChoose contains the following features:\n",
    "\n",
    "Feature | Description \n",
    "----------|---------------\n",
    "**`project_id`** | A unique identifier for the proposed project. **Example:** `p036502`   \n",
    "**`project_title`**    | Title of the project. **Examples:**<br><ul><li><code>Art Will Make You Happy!</code></li><li><code>First Grade Fun</code></li></ul> \n",
    "**`project_grade_category`** | Grade level of students for which the project is targeted. One of the following enumerated values: <br/><ul><li><code>Grades PreK-2</code></li><li><code>Grades 3-5</code></li><li><code>Grades 6-8</code></li><li><code>Grades 9-12</code></li></ul>  \n",
    " **`project_subject_categories`** | One or more (comma-separated) subject categories for the project from the following enumerated list of values:  <br/><ul><li><code>Applied Learning</code></li><li><code>Care &amp; Hunger</code></li><li><code>Health &amp; Sports</code></li><li><code>History &amp; Civics</code></li><li><code>Literacy &amp; Language</code></li><li><code>Math &amp; Science</code></li><li><code>Music &amp; The Arts</code></li><li><code>Special Needs</code></li><li><code>Warmth</code></li></ul><br/> **Examples:** <br/><ul><li><code>Music &amp; The Arts</code></li><li><code>Literacy &amp; Language, Math &amp; Science</code></li>  \n",
    "  **`school_state`** | State where school is located ([Two-letter U.S. postal code](https://en.wikipedia.org/wiki/List_of_U.S._state_abbreviations#Postal_codes)). **Example:** `WY`\n",
    "**`project_subject_subcategories`** | One or more (comma-separated) subject subcategories for the project. **Examples:** <br/><ul><li><code>Literacy</code></li><li><code>Literature &amp; Writing, Social Sciences</code></li></ul> \n",
    "**`project_resource_summary`** | An explanation of the resources needed for the project. **Example:** <br/><ul><li><code>My students need hands on literacy materials to manage sensory needs!</code</li></ul> \n",
    "**`project_essay_1`**    | First application essay<sup>*</sup>  \n",
    "**`project_essay_2`**    | Second application essay<sup>*</sup> \n",
    "**`project_essay_3`**    | Third application essay<sup>*</sup> \n",
    "**`project_essay_4`**    | Fourth application essay<sup>*</sup> \n",
    "**`project_submitted_datetime`** | Datetime when project application was submitted. **Example:** `2016-04-28 12:43:56.245`   \n",
    "**`teacher_id`** | A unique identifier for the teacher of the proposed project. **Example:** `bdf8baa8fedef6bfeec7ae4ff1c15c56`  \n",
    "**`teacher_prefix`** | Teacher's title. One of the following enumerated values: <br/><ul><li><code>nan</code></li><li><code>Dr.</code></li><li><code>Mr.</code></li><li><code>Mrs.</code></li><li><code>Ms.</code></li><li><code>Teacher.</code></li></ul>  \n",
    "**`teacher_number_of_previously_posted_projects`** | Number of project applications previously submitted by the same teacher. **Example:** `2` \n",
    "\n",
    "<sup>*</sup> See the section <b>Notes on the Essay Data</b> for more details about these features.\n",
    "\n",
    "Additionally, the `resources.csv` data set provides more data about the resources required for each project. Each line in this file represents a resource required by a project:\n",
    "\n",
    "Feature | Description \n",
    "----------|---------------\n",
    "**`id`** | A `project_id` value from the `train.csv` file.  **Example:** `p036502`   \n",
    "**`description`** | Desciption of the resource. **Example:** `Tenor Saxophone Reeds, Box of 25`   \n",
    "**`quantity`** | Quantity of the resource required. **Example:** `3`   \n",
    "**`price`** | Price of the resource required. **Example:** `9.95`   \n",
    "\n",
    "**Note:** Many projects require multiple resources. The `id` value corresponds to a `project_id` in train.csv, so you use it as a key to retrieve all resources needed for a project:\n",
    "\n",
    "The data set contains the following label (the value you will attempt to predict):\n",
    "\n",
    "Label | Description\n",
    "----------|---------------\n",
    "`project_is_approved` | A binary flag indicating whether DonorsChoose approved the project. A value of `0` indicates the project was not approved, and a value of `1` indicates the project was approved."
   ]
  },
  {
   "cell_type": "markdown",
   "metadata": {
    "colab_type": "text",
    "id": "TVMzvNZdaJac"
   },
   "source": [
    "### Notes on the Essay Data\n",
    "\n",
    "<ul>\n",
    "Prior to May 17, 2016, the prompts for the essays were as follows:\n",
    "<li>__project_essay_1:__ \"Introduce us to your classroom\"</li>\n",
    "<li>__project_essay_2:__ \"Tell us more about your students\"</li>\n",
    "<li>__project_essay_3:__ \"Describe how your students will use the materials you're requesting\"</li>\n",
    "<li>__project_essay_4:__ \"Close by sharing why your project will make a difference\"</li>\n",
    "</ul>\n",
    "\n",
    "\n",
    "<ul>\n",
    "Starting on May 17, 2016, the number of essays was reduced from 4 to 2, and the prompts for the first 2 essays were changed to the following:<br>\n",
    "<li>__project_essay_1:__ \"Describe your students: What makes your students special? Specific details about their background, your neighborhood, and your school are all helpful.\"</li>\n",
    "<li>__project_essay_2:__ \"About your project: How will these materials make a difference in your students' learning and improve their school lives?\"</li>\n",
    "<br>For all projects with project_submitted_datetime of 2016-05-17 and later, the values of project_essay_3 and project_essay_4 will be NaN.\n",
    "</ul>\n"
   ]
  },
  {
   "cell_type": "code",
   "execution_count": 117,
   "metadata": {
    "colab": {},
    "colab_type": "code",
    "id": "CDr-VpfXaJaf",
    "outputId": "ed8414cf-a65e-4b19-d56a-90b15a77a3d5"
   },
   "outputs": [],
   "source": [
    "%matplotlib inline\n",
    "import warnings\n",
    "warnings.filterwarnings(\"ignore\")\n",
    "\n",
    "import sqlite3\n",
    "import pandas as pd\n",
    "import numpy as np\n",
    "import nltk\n",
    "import string\n",
    "import matplotlib.pyplot as plt\n",
    "import seaborn as sns\n",
    "from sklearn.feature_extraction.text import TfidfTransformer\n",
    "from sklearn.feature_extraction.text import TfidfVectorizer\n",
    "\n",
    "from sklearn.feature_extraction.text import CountVectorizer\n",
    "from sklearn.metrics import confusion_matrix\n",
    "from sklearn import metrics\n",
    "from sklearn.metrics import roc_curve, auc\n",
    "from nltk.stem.porter import PorterStemmer\n",
    "\n",
    "import re\n",
    "# Tutorial about Python regular expressions: https://pymotw.com/2/re/\n",
    "import string\n",
    "from nltk.corpus import stopwords\n",
    "from nltk.stem import PorterStemmer\n",
    "from nltk.stem.wordnet import WordNetLemmatizer\n",
    "\n",
    "from gensim.models import Word2Vec\n",
    "from gensim.models import KeyedVectors\n",
    "import pickle\n",
    "\n",
    "from tqdm import tqdm\n",
    "import os\n",
    "\n",
    "'''from plotly import plotly\n",
    "import plotly.offline as offline\n",
    "import plotly.graph_objs as go'''\n",
    "#offline.init_notebook_mode()\n",
    "from collections import Counter"
   ]
  },
  {
   "cell_type": "markdown",
   "metadata": {
    "colab_type": "text",
    "id": "8Drwa7XaaJar"
   },
   "source": [
    "## 1.1 Reading Data"
   ]
  },
  {
   "cell_type": "code",
   "execution_count": 118,
   "metadata": {
    "colab": {},
    "colab_type": "code",
    "id": "P5NdUxFCaJas"
   },
   "outputs": [],
   "source": [
    "project_data = pd.read_csv('train_data.csv')\n",
    "resource_data = pd.read_csv('resources.csv')\n",
    "project_data=project_data.sample(n=5000)\n"
   ]
  },
  {
   "cell_type": "code",
   "execution_count": 119,
   "metadata": {
    "colab": {},
    "colab_type": "code",
    "id": "JhsIqPIKaJax",
    "outputId": "0c810c7d-ea14-4218-f6a4-6bf9db60b9c6"
   },
   "outputs": [
    {
     "name": "stdout",
     "output_type": "stream",
     "text": [
      "Number of data points in train data (5000, 17)\n",
      "--------------------------------------------------\n",
      "The attributes of data : ['Unnamed: 0' 'id' 'teacher_id' 'teacher_prefix' 'school_state'\n",
      " 'project_submitted_datetime' 'project_grade_category'\n",
      " 'project_subject_categories' 'project_subject_subcategories'\n",
      " 'project_title' 'project_essay_1' 'project_essay_2' 'project_essay_3'\n",
      " 'project_essay_4' 'project_resource_summary'\n",
      " 'teacher_number_of_previously_posted_projects' 'project_is_approved']\n"
     ]
    }
   ],
   "source": [
    "print(\"Number of data points in train data\", project_data.shape)\n",
    "print('-'*50)\n",
    "print(\"The attributes of data :\", project_data.columns.values)"
   ]
  },
  {
   "cell_type": "code",
   "execution_count": 120,
   "metadata": {
    "colab": {},
    "colab_type": "code",
    "id": "fn0fbARaaJa3",
    "outputId": "1dbd1c95-8828-42c3-87cc-447de2c79bd3"
   },
   "outputs": [
    {
     "name": "stdout",
     "output_type": "stream",
     "text": [
      "Number of data points in train data (1541272, 4)\n",
      "['id' 'description' 'quantity' 'price']\n"
     ]
    },
    {
     "data": {
      "text/html": [
       "<div>\n",
       "<style scoped>\n",
       "    .dataframe tbody tr th:only-of-type {\n",
       "        vertical-align: middle;\n",
       "    }\n",
       "\n",
       "    .dataframe tbody tr th {\n",
       "        vertical-align: top;\n",
       "    }\n",
       "\n",
       "    .dataframe thead th {\n",
       "        text-align: right;\n",
       "    }\n",
       "</style>\n",
       "<table border=\"1\" class=\"dataframe\">\n",
       "  <thead>\n",
       "    <tr style=\"text-align: right;\">\n",
       "      <th></th>\n",
       "      <th>id</th>\n",
       "      <th>description</th>\n",
       "      <th>quantity</th>\n",
       "      <th>price</th>\n",
       "    </tr>\n",
       "  </thead>\n",
       "  <tbody>\n",
       "    <tr>\n",
       "      <th>0</th>\n",
       "      <td>p233245</td>\n",
       "      <td>LC652 - Lakeshore Double-Space Mobile Drying Rack</td>\n",
       "      <td>1</td>\n",
       "      <td>149.00</td>\n",
       "    </tr>\n",
       "    <tr>\n",
       "      <th>1</th>\n",
       "      <td>p069063</td>\n",
       "      <td>Bouncy Bands for Desks (Blue support pipes)</td>\n",
       "      <td>3</td>\n",
       "      <td>14.95</td>\n",
       "    </tr>\n",
       "  </tbody>\n",
       "</table>\n",
       "</div>"
      ],
      "text/plain": [
       "        id                                        description  quantity  \\\n",
       "0  p233245  LC652 - Lakeshore Double-Space Mobile Drying Rack         1   \n",
       "1  p069063        Bouncy Bands for Desks (Blue support pipes)         3   \n",
       "\n",
       "    price  \n",
       "0  149.00  \n",
       "1   14.95  "
      ]
     },
     "execution_count": 120,
     "metadata": {},
     "output_type": "execute_result"
    }
   ],
   "source": [
    "print(\"Number of data points in train data\", resource_data.shape)\n",
    "print(resource_data.columns.values)\n",
    "resource_data.head(2)"
   ]
  },
  {
   "cell_type": "markdown",
   "metadata": {
    "colab_type": "text",
    "id": "udV9YvZNaJa8"
   },
   "source": [
    "# 1.2 Data Analysis"
   ]
  },
  {
   "cell_type": "code",
   "execution_count": 121,
   "metadata": {
    "colab": {},
    "colab_type": "code",
    "id": "q0ROj_WJaJa9",
    "outputId": "e99625bf-f428-4724-c4fe-aafa7bd5270d"
   },
   "outputs": [
    {
     "name": "stdout",
     "output_type": "stream",
     "text": [
      "Number of projects thar are approved for funding  4269 , ( 85.38 %)\n",
      "Number of projects thar are not approved for funding  731 , ( 14.62 %)\n"
     ]
    },
    {
     "data": {
      "image/png": "[encoded data removed]",
      "text/plain": [
       "<Figure size 432x432 with 1 Axes>"
      ]
     },
     "metadata": {},
     "output_type": "display_data"
    }
   ],
   "source": [
    "# PROVIDE CITATIONS TO YOUR CODE IF YOU TAKE IT FROM ANOTHER WEBSITE.\n",
    "# https://matplotlib.org/gallery/pie_and_polar_charts/pie_and_donut_labels.html#sphx-glr-gallery-pie-and-polar-charts-pie-and-donut-labels-py\n",
    "\n",
    "\n",
    "y_value_counts = project_data['project_is_approved'].value_counts()\n",
    "print(\"Number of projects thar are approved for funding \", y_value_counts[1], \", (\", (y_value_counts[1]/(y_value_counts[1]+y_value_counts[0]))*100,\"%)\")\n",
    "print(\"Number of projects thar are not approved for funding \", y_value_counts[0], \", (\", (y_value_counts[0]/(y_value_counts[1]+y_value_counts[0]))*100,\"%)\")\n",
    "\n",
    "fig, ax = plt.subplots(figsize=(6, 6), subplot_kw=dict(aspect=\"equal\"))\n",
    "recipe = [\"Accepted\", \"Not Accepted\"]\n",
    "\n",
    "data = [y_value_counts[1], y_value_counts[0]]\n",
    "\n",
    "wedges, texts = ax.pie(data, wedgeprops=dict(width=0.5), startangle=-40)\n",
    "\n",
    "bbox_props = dict(boxstyle=\"square,pad=0.3\", fc=\"w\", ec=\"k\", lw=0.72)\n",
    "kw = dict(xycoords='data', textcoords='data', arrowprops=dict(arrowstyle=\"-\"),\n",
    "          bbox=bbox_props, zorder=0, va=\"center\")\n",
    "\n",
    "for i, p in enumerate(wedges):\n",
    "    ang = (p.theta2 - p.theta1)/2. + p.theta1\n",
    "    y = np.sin(np.deg2rad(ang))\n",
    "    x = np.cos(np.deg2rad(ang))\n",
    "    horizontalalignment = {-1: \"right\", 1: \"left\"}[int(np.sign(x))]\n",
    "    connectionstyle = \"angle,angleA=0,angleB={}\".format(ang)\n",
    "    kw[\"arrowprops\"].update({\"connectionstyle\": connectionstyle})\n",
    "    ax.annotate(recipe[i], xy=(x, y), xytext=(1.35*np.sign(x), 1.4*y),\n",
    "                 horizontalalignment=horizontalalignment, **kw)\n",
    "\n",
    "ax.set_title(\"Nmber of projects that are Accepted and not accepted\")\n",
    "\n",
    "plt.show()"
   ]
  },
  {
   "cell_type": "markdown",
   "metadata": {
    "colab_type": "text",
    "id": "WzssSvN6aJbC"
   },
   "source": [
    "### 1.2.1 Univariate Analysis: School State"
   ]
  },
  {
   "cell_type": "code",
   "execution_count": 122,
   "metadata": {
    "colab": {},
    "colab_type": "code",
    "id": "DoHRXTR7aJbD",
    "outputId": "dc973c3a-d3db-4c25-91a3-a76d84197764",
    "scrolled": false
   },
   "outputs": [
    {
     "data": {
      "text/plain": [
       "'# How to plot US state heatmap: https://datascience.stackexchange.com/a/9620\\n\\nscl = [[0.0, \\'rgb(242,240,247)\\'],[0.2, \\'rgb(218,218,235)\\'],[0.4, \\'rgb(188,189,220)\\'],            [0.6, \\'rgb(158,154,200)\\'],[0.8, \\'rgb(117,107,177)\\'],[1.0, \\'rgb(84,39,143)\\']]\\n\\ndata = [ dict(\\n        type=\\'choropleth\\',\\n        colorscale = scl,\\n        autocolorscale = False,\\n        locations = temp[\\'state_code\\'],\\n        z = temp[\\'num_proposals\\'].astype(float),\\n        locationmode = \\'USA-states\\',\\n        text = temp[\\'state_code\\'],\\n        marker = dict(line = dict (color = \\'rgb(255,255,255)\\',width = 2)),\\n        colorbar = dict(title = \"% of pro\")\\n    ) ]\\n\\nlayout = dict(\\n        title = \\'Project Proposals % of Acceptance Rate by US States\\',\\n        geo = dict(\\n            scope=\\'usa\\',\\n            projection=dict( type=\\'albers usa\\' ),\\n            showlakes = True,\\n            lakecolor = \\'rgb(255, 255, 255)\\',\\n        ),\\n    )\\n\\nfig = go.Figure(data=data, layout=layout)\\noffline.iplot(fig, filename=\\'us-map-heat-map\\')\\n'"
      ]
     },
     "execution_count": 122,
     "metadata": {},
     "output_type": "execute_result"
    }
   ],
   "source": [
    "# Pandas dataframe groupby count, mean: https://stackoverflow.com/a/19385591/4084039\n",
    "\n",
    "temp = pd.DataFrame(project_data.groupby(\"school_state\")[\"project_is_approved\"].apply(np.mean)).reset_index()\n",
    "# if you have data which contain only 0 and 1, then the mean = percentage (think about it)\n",
    "temp.columns = ['state_code', 'num_proposals']\n",
    "\n",
    "'''# How to plot US state heatmap: https://datascience.stackexchange.com/a/9620\n",
    "\n",
    "scl = [[0.0, 'rgb(242,240,247)'],[0.2, 'rgb(218,218,235)'],[0.4, 'rgb(188,189,220)'],\\\n",
    "            [0.6, 'rgb(158,154,200)'],[0.8, 'rgb(117,107,177)'],[1.0, 'rgb(84,39,143)']]\n",
    "\n",
    "data = [ dict(\n",
    "        type='choropleth',\n",
    "        colorscale = scl,\n",
    "        autocolorscale = False,\n",
    "        locations = temp['state_code'],\n",
    "        z = temp['num_proposals'].astype(float),\n",
    "        locationmode = 'USA-states',\n",
    "        text = temp['state_code'],\n",
    "        marker = dict(line = dict (color = 'rgb(255,255,255)',width = 2)),\n",
    "        colorbar = dict(title = \"% of pro\")\n",
    "    ) ]\n",
    "\n",
    "layout = dict(\n",
    "        title = 'Project Proposals % of Acceptance Rate by US States',\n",
    "        geo = dict(\n",
    "            scope='usa',\n",
    "            projection=dict( type='albers usa' ),\n",
    "            showlakes = True,\n",
    "            lakecolor = 'rgb(255, 255, 255)',\n",
    "        ),\n",
    "    )\n",
    "\n",
    "fig = go.Figure(data=data, layout=layout)\n",
    "offline.iplot(fig, filename='us-map-heat-map')\n",
    "'''"
   ]
  },
  {
   "cell_type": "code",
   "execution_count": 123,
   "metadata": {
    "colab": {},
    "colab_type": "code",
    "id": "0qAgnYkjaJbH",
    "outputId": "dcb94e1f-8025-4078-d2dd-2f8313707bbf"
   },
   "outputs": [
    {
     "name": "stdout",
     "output_type": "stream",
     "text": [
      "States with lowest % approvals\n",
      "   state_code  num_proposals\n",
      "41         SD       0.714286\n",
      "26         MT       0.750000\n",
      "25         MS       0.766667\n",
      "0          AK       0.777778\n",
      "50         WY       0.777778\n",
      "==================================================\n",
      "States with highest % approvals\n",
      "   state_code  num_proposals\n",
      "23         MN       0.907692\n",
      "39         RI       0.909091\n",
      "8          DE       0.928571\n",
      "21         ME       1.000000\n",
      "46         VT       1.000000\n"
     ]
    }
   ],
   "source": [
    "# https://www.csi.cuny.edu/sites/default/files/pdf/administration/ops/2letterstabbrev.pdf\n",
    "temp.sort_values(by=['num_proposals'], inplace=True)\n",
    "print(\"States with lowest % approvals\")\n",
    "print(temp.head(5))\n",
    "print('='*50)\n",
    "print(\"States with highest % approvals\")\n",
    "print(temp.tail(5))"
   ]
  },
  {
   "cell_type": "code",
   "execution_count": 124,
   "metadata": {
    "colab": {},
    "colab_type": "code",
    "id": "_PNmMn3raJbL"
   },
   "outputs": [],
   "source": [
    "#stacked bar plots matplotlib: https://matplotlib.org/gallery/lines_bars_and_markers/bar_stacked.html\n",
    "def stack_plot(data, xtick, col2='project_is_approved', col3='total'):\n",
    "    ind = np.arange(data.shape[0])\n",
    "    \n",
    "    plt.figure(figsize=(20,5))\n",
    "    p1 = plt.bar(ind, data[col3].values)\n",
    "    p2 = plt.bar(ind, data[col2].values)\n",
    "\n",
    "    plt.ylabel('Projects')\n",
    "    plt.title('Number of projects aproved vs rejected')\n",
    "    plt.xticks(ind, list(data[xtick].values))\n",
    "    plt.legend((p1[0], p2[0]), ('total', 'accepted'))\n",
    "    plt.show()"
   ]
  },
  {
   "cell_type": "code",
   "execution_count": 125,
   "metadata": {
    "colab": {},
    "colab_type": "code",
    "id": "7ojuQkjQaJbN"
   },
   "outputs": [],
   "source": [
    "def univariate_barplots(data, col1, col2='project_is_approved', top=False):\n",
    "    # Count number of zeros in dataframe python: https://stackoverflow.com/a/51540521/4084039\n",
    "    temp = pd.DataFrame(project_data.groupby(col1)[col2].agg(lambda x: x.eq(1).sum())).reset_index()\n",
    "\n",
    "    # Pandas dataframe grouby count: https://stackoverflow.com/a/19385591/4084039\n",
    "    temp['total'] = pd.DataFrame(project_data.groupby(col1)[col2].agg({'total':'count'})).reset_index()['total']\n",
    "    temp['Avg'] = pd.DataFrame(project_data.groupby(col1)[col2].agg({'Avg':'mean'})).reset_index()['Avg']\n",
    "    \n",
    "    temp.sort_values(by=['total'],inplace=True, ascending=False)\n",
    "    \n",
    "    if top:\n",
    "        temp = temp[0:top]\n",
    "    \n",
    "    stack_plot(temp, xtick=col1, col2=col2, col3='total')\n",
    "    print(temp.head(5))\n",
    "    print(\"=\"*50)\n",
    "    print(temp.tail(5))"
   ]
  },
  {
   "cell_type": "code",
   "execution_count": 126,
   "metadata": {
    "colab": {},
    "colab_type": "code",
    "id": "v6r0uLZtaJbQ",
    "outputId": "3f2ccb18-44c1-4784-b689-ea726be6ffb7"
   },
   "outputs": [
    {
     "data": {
      "image/png": "[encoded data removed]",
      "text/plain": [
       "<Figure size 1440x360 with 1 Axes>"
      ]
     },
     "metadata": {},
     "output_type": "display_data"
    },
    {
     "name": "stdout",
     "output_type": "stream",
     "text": [
      "   school_state  project_is_approved  total       Avg\n",
      "4            CA                  578    660  0.875758\n",
      "43           TX                  302    366  0.825137\n",
      "34           NY                  291    334  0.871257\n",
      "9            FL                  206    249  0.827309\n",
      "27           NC                  200    231  0.865801\n",
      "==================================================\n",
      "   school_state  project_is_approved  total       Avg\n",
      "39           RI                   10     11  0.909091\n",
      "50           WY                    7      9  0.777778\n",
      "28           ND                    7      8  0.875000\n",
      "26           MT                    6      8  0.750000\n",
      "46           VT                    4      4  1.000000\n"
     ]
    }
   ],
   "source": [
    "univariate_barplots(project_data, 'school_state', 'project_is_approved', False)"
   ]
  },
  {
   "cell_type": "markdown",
   "metadata": {
    "colab_type": "text",
    "id": "ASBJo7KhaJbT"
   },
   "source": [
    "__SUMMARY: Every state has greater than 80% success rate in approval__\n"
   ]
  },
  {
   "cell_type": "markdown",
   "metadata": {
    "colab_type": "text",
    "id": "df7aw9znaJbU"
   },
   "source": [
    "### 1.2.2 Univariate Analysis: teacher_prefix"
   ]
  },
  {
   "cell_type": "code",
   "execution_count": 127,
   "metadata": {
    "colab": {},
    "colab_type": "code",
    "id": "7hzEN-UTaJbV",
    "outputId": "6eaa87e6-4a99-4114-c68d-3a13ec74b9b9"
   },
   "outputs": [
    {
     "data": {
      "image/png": "[encoded data removed]",
      "text/plain": [
       "<Figure size 1440x360 with 1 Axes>"
      ]
     },
     "metadata": {},
     "output_type": "display_data"
    },
    {
     "name": "stdout",
     "output_type": "stream",
     "text": [
      "  teacher_prefix  project_is_approved  total       Avg\n",
      "1           Mrs.                 2249   2614  0.860367\n",
      "2            Ms.                 1537   1794  0.856745\n",
      "0            Mr.                  400    485  0.824742\n",
      "3        Teacher                   83    107  0.775701\n",
      "==================================================\n",
      "  teacher_prefix  project_is_approved  total       Avg\n",
      "1           Mrs.                 2249   2614  0.860367\n",
      "2            Ms.                 1537   1794  0.856745\n",
      "0            Mr.                  400    485  0.824742\n",
      "3        Teacher                   83    107  0.775701\n"
     ]
    }
   ],
   "source": [
    "univariate_barplots(project_data, 'teacher_prefix', 'project_is_approved' , top=False)"
   ]
  },
  {
   "cell_type": "markdown",
   "metadata": {},
   "source": [
    "#### Observation : Probability of a project getting approved slightly depends of the PreFix of the Teacher"
   ]
  },
  {
   "cell_type": "markdown",
   "metadata": {
    "colab_type": "text",
    "id": "KLkWseiHaJbY"
   },
   "source": [
    "### 1.2.3 Univariate Analysis: project_grade_category"
   ]
  },
  {
   "cell_type": "code",
   "execution_count": 268,
   "metadata": {
    "colab": {},
    "colab_type": "code",
    "id": "ywuMX7O2aJbZ",
    "outputId": "85a57231-4818-406f-ee64-5ca716d2439b"
   },
   "outputs": [
    {
     "data": {
      "image/png": "[encoded data removed]",
      "text/plain": [
       "<Figure size 1440x360 with 1 Axes>"
      ]
     },
     "metadata": {},
     "output_type": "display_data"
    },
    {
     "name": "stdout",
     "output_type": "stream",
     "text": [
      "  project_grade_category  project_is_approved  total       Avg\n",
      "3          Grades PreK-2                 1755   2044  0.858611\n",
      "0             Grades 3-5                 1447   1694  0.854191\n",
      "1             Grades 6-8                  650    768  0.846354\n",
      "2            Grades 9-12                  417    494  0.844130\n",
      "==================================================\n",
      "  project_grade_category  project_is_approved  total       Avg\n",
      "3          Grades PreK-2                 1755   2044  0.858611\n",
      "0             Grades 3-5                 1447   1694  0.854191\n",
      "1             Grades 6-8                  650    768  0.846354\n",
      "2            Grades 9-12                  417    494  0.844130\n"
     ]
    }
   ],
   "source": [
    "univariate_barplots(project_data, 'project_grade_category', 'project_is_approved', top=False)"
   ]
  },
  {
   "cell_type": "markdown",
   "metadata": {},
   "source": [
    "#### Summary:Lower grade teachers have a slightly higher  chance of getting their project approved."
   ]
  },
  {
   "cell_type": "markdown",
   "metadata": {
    "colab_type": "text",
    "id": "ODDsS25MaJbd"
   },
   "source": [
    "### 1.2.4 Univariate Analysis: project_subject_categories"
   ]
  },
  {
   "cell_type": "code",
   "execution_count": 129,
   "metadata": {
    "colab": {},
    "colab_type": "code",
    "id": "5L9hqFQ_aJbd"
   },
   "outputs": [],
   "source": [
    "catogories = list(project_data['project_subject_categories'].values)\n",
    "# remove special characters from list of strings python: https://stackoverflow.com/a/47301924/4084039\n",
    "\n",
    "# https://www.geeksforgeeks.org/removing-stop-words-nltk-python/\n",
    "# https://stackoverflow.com/questions/23669024/how-to-strip-a-specific-word-from-a-string\n",
    "# https://stackoverflow.com/questions/8270092/remove-all-whitespace-in-a-string-in-python\n",
    "cat_list = []\n",
    "for i in catogories:\n",
    "    temp = \"\"\n",
    "    # consider we have text like this \"Math & Science, Warmth, Care & Hunger\"\n",
    "    for j in i.split(','): # it will split it in three parts [\"Math & Science\", \"Warmth\", \"Care & Hunger\"]\n",
    "        if 'The' in j.split(): # this will split each of the catogory based on space \"Math & Science\"=> \"Math\",\"&\", \"Science\"\n",
    "            j=j.replace('The','') # if we have the words \"The\" we are going to replace it with ''(i.e removing 'The')\n",
    "        j = j.replace(' ','') # we are placeing all the ' '(space) with ''(empty) ex:\"Math & Science\"=>\"Math&Science\"\n",
    "        temp+=j.strip()+\" \" #\" abc \".strip() will return \"abc\", remove the trailing spaces\n",
    "        temp = temp.replace('&','_') # we are replacing the & value into \n",
    "    cat_list.append(temp.strip())"
   ]
  },
  {
   "cell_type": "code",
   "execution_count": 130,
   "metadata": {
    "colab": {},
    "colab_type": "code",
    "id": "ad9OweSvaJbg",
    "outputId": "803e0491-6db2-4c60-c9df-38c2c7b138c1",
    "scrolled": true
   },
   "outputs": [
    {
     "data": {
      "text/html": [
       "<div>\n",
       "<style scoped>\n",
       "    .dataframe tbody tr th:only-of-type {\n",
       "        vertical-align: middle;\n",
       "    }\n",
       "\n",
       "    .dataframe tbody tr th {\n",
       "        vertical-align: top;\n",
       "    }\n",
       "\n",
       "    .dataframe thead th {\n",
       "        text-align: right;\n",
       "    }\n",
       "</style>\n",
       "<table border=\"1\" class=\"dataframe\">\n",
       "  <thead>\n",
       "    <tr style=\"text-align: right;\">\n",
       "      <th></th>\n",
       "      <th>Unnamed: 0</th>\n",
       "      <th>id</th>\n",
       "      <th>teacher_id</th>\n",
       "      <th>teacher_prefix</th>\n",
       "      <th>school_state</th>\n",
       "      <th>project_submitted_datetime</th>\n",
       "      <th>project_grade_category</th>\n",
       "      <th>project_subject_subcategories</th>\n",
       "      <th>project_title</th>\n",
       "      <th>project_essay_1</th>\n",
       "      <th>project_essay_2</th>\n",
       "      <th>project_essay_3</th>\n",
       "      <th>project_essay_4</th>\n",
       "      <th>project_resource_summary</th>\n",
       "      <th>teacher_number_of_previously_posted_projects</th>\n",
       "      <th>project_is_approved</th>\n",
       "      <th>clean_categories</th>\n",
       "    </tr>\n",
       "  </thead>\n",
       "  <tbody>\n",
       "    <tr>\n",
       "      <th>93411</th>\n",
       "      <td>96739</td>\n",
       "      <td>p042250</td>\n",
       "      <td>1459f172060e74eed5c532d29dadaf30</td>\n",
       "      <td>Ms.</td>\n",
       "      <td>CT</td>\n",
       "      <td>2016-09-15 21:59:22</td>\n",
       "      <td>Grades 3-5</td>\n",
       "      <td>Literacy</td>\n",
       "      <td>The More Words the Merrier</td>\n",
       "      <td>My third grade classroom consists of 29 studen...</td>\n",
       "      <td>These students will be using the materials dur...</td>\n",
       "      <td>NaN</td>\n",
       "      <td>NaN</td>\n",
       "      <td>My students need to read words fluently to hel...</td>\n",
       "      <td>0</td>\n",
       "      <td>1</td>\n",
       "      <td>Literacy_Language</td>\n",
       "    </tr>\n",
       "    <tr>\n",
       "      <th>89705</th>\n",
       "      <td>143427</td>\n",
       "      <td>p250869</td>\n",
       "      <td>0547c63db5227d9af4d9b55fd9cc9d73</td>\n",
       "      <td>Mrs.</td>\n",
       "      <td>AL</td>\n",
       "      <td>2016-09-01 11:11:54</td>\n",
       "      <td>Grades 3-5</td>\n",
       "      <td>Literature &amp; Writing, Mathematics</td>\n",
       "      <td>Students:  Motivated Through Technology</td>\n",
       "      <td>Our students come from a variety of different ...</td>\n",
       "      <td>Students will be learning to use Office 365 to...</td>\n",
       "      <td>NaN</td>\n",
       "      <td>NaN</td>\n",
       "      <td>My students need student computers for equal a...</td>\n",
       "      <td>2</td>\n",
       "      <td>0</td>\n",
       "      <td>Literacy_Language Math_Science</td>\n",
       "    </tr>\n",
       "  </tbody>\n",
       "</table>\n",
       "</div>"
      ],
      "text/plain": [
       "       Unnamed: 0       id                        teacher_id teacher_prefix  \\\n",
       "93411       96739  p042250  1459f172060e74eed5c532d29dadaf30            Ms.   \n",
       "89705      143427  p250869  0547c63db5227d9af4d9b55fd9cc9d73           Mrs.   \n",
       "\n",
       "      school_state project_submitted_datetime project_grade_category  \\\n",
       "93411           CT        2016-09-15 21:59:22             Grades 3-5   \n",
       "89705           AL        2016-09-01 11:11:54             Grades 3-5   \n",
       "\n",
       "           project_subject_subcategories  \\\n",
       "93411                           Literacy   \n",
       "89705  Literature & Writing, Mathematics   \n",
       "\n",
       "                                 project_title  \\\n",
       "93411               The More Words the Merrier   \n",
       "89705  Students:  Motivated Through Technology   \n",
       "\n",
       "                                         project_essay_1  \\\n",
       "93411  My third grade classroom consists of 29 studen...   \n",
       "89705  Our students come from a variety of different ...   \n",
       "\n",
       "                                         project_essay_2 project_essay_3  \\\n",
       "93411  These students will be using the materials dur...             NaN   \n",
       "89705  Students will be learning to use Office 365 to...             NaN   \n",
       "\n",
       "      project_essay_4                           project_resource_summary  \\\n",
       "93411             NaN  My students need to read words fluently to hel...   \n",
       "89705             NaN  My students need student computers for equal a...   \n",
       "\n",
       "       teacher_number_of_previously_posted_projects  project_is_approved  \\\n",
       "93411                                             0                    1   \n",
       "89705                                             2                    0   \n",
       "\n",
       "                     clean_categories  \n",
       "93411               Literacy_Language  \n",
       "89705  Literacy_Language Math_Science  "
      ]
     },
     "execution_count": 130,
     "metadata": {},
     "output_type": "execute_result"
    }
   ],
   "source": [
    "project_data['clean_categories'] = cat_list\n",
    "project_data.drop(['project_subject_categories'], axis=1, inplace=True)\n",
    "project_data.head(2)"
   ]
  },
  {
   "cell_type": "code",
   "execution_count": 131,
   "metadata": {
    "colab": {},
    "colab_type": "code",
    "id": "osOAKP6FaJbk",
    "outputId": "d3b2c75b-8e86-4995-9429-3bc56c35cc6e",
    "scrolled": false
   },
   "outputs": [
    {
     "data": {
      "image/png": "[encoded data removed]",
      "text/plain": [
       "<Figure size 1440x360 with 1 Axes>"
      ]
     },
     "metadata": {},
     "output_type": "display_data"
    },
    {
     "name": "stdout",
     "output_type": "stream",
     "text": [
      "                  clean_categories  project_is_approved  total       Avg\n",
      "22               Literacy_Language                  957   1090  0.877982\n",
      "30                    Math_Science                  611    754  0.810345\n",
      "26  Literacy_Language Math_Science                  657    739  0.889039\n",
      "8                    Health_Sports                  395    454  0.870044\n",
      "37                      Music_Arts                  195    236  0.826271\n",
      "==================================================\n",
      "                    clean_categories  project_is_approved  total       Avg\n",
      "6       AppliedLearning SpecialNeeds                   50     65  0.769231\n",
      "35           Math_Science Music_Arts                   51     64  0.796875\n",
      "46                Warmth Care_Hunger                   49     56  0.875000\n",
      "31      Math_Science AppliedLearning                   37     51  0.725490\n",
      "25  Literacy_Language History_Civics                   43     47  0.914894\n"
     ]
    }
   ],
   "source": [
    "univariate_barplots(project_data, 'clean_categories', 'project_is_approved', top=20)"
   ]
  },
  {
   "cell_type": "code",
   "execution_count": 132,
   "metadata": {
    "colab": {},
    "colab_type": "code",
    "id": "7zVBViRUaJbn"
   },
   "outputs": [],
   "source": [
    "# count of all the words in corpus python: https://stackoverflow.com/a/22898595/4084039\n",
    "from collections import Counter\n",
    "my_counter = Counter()\n",
    "for word in project_data['clean_categories'].values:\n",
    "    my_counter.update(word.split())"
   ]
  },
  {
   "cell_type": "code",
   "execution_count": 133,
   "metadata": {
    "colab": {},
    "colab_type": "code",
    "id": "78JrfgHUaJbp",
    "outputId": "5da7e4f5-5980-484d-e653-774974b73cb3"
   },
   "outputs": [
    {
     "data": {
      "image/png": "[encoded data removed]",
      "text/plain": [
       "<Figure size 1440x360 with 1 Axes>"
      ]
     },
     "metadata": {},
     "output_type": "display_data"
    }
   ],
   "source": [
    "# dict sort by value python: https://stackoverflow.com/a/613218/4084039\n",
    "cat_dict = dict(my_counter)\n",
    "sorted_cat_dict = dict(sorted(cat_dict.items(), key=lambda kv: kv[1]))\n",
    "\n",
    "\n",
    "ind = np.arange(len(sorted_cat_dict))\n",
    "plt.figure(figsize=(20,5))\n",
    "p1 = plt.bar(ind, list(sorted_cat_dict.values()))\n",
    "\n",
    "plt.ylabel('Projects')\n",
    "plt.title('projects count category wise')\n",
    "plt.xticks(ind, list(sorted_cat_dict.keys()))\n",
    "plt.show()"
   ]
  },
  {
   "cell_type": "code",
   "execution_count": 134,
   "metadata": {
    "colab": {},
    "colab_type": "code",
    "id": "GqDa4X7SaJbs",
    "outputId": "80a11ee5-e467-4fb1-dab9-ad7a592fbf20",
    "scrolled": true
   },
   "outputs": [
    {
     "name": "stdout",
     "output_type": "stream",
     "text": [
      "Warmth               :        61\n",
      "Care_Hunger          :        61\n",
      "History_Civics       :       284\n",
      "Music_Arts           :       466\n",
      "AppliedLearning      :       538\n",
      "SpecialNeeds         :       601\n",
      "Health_Sports        :       652\n",
      "Math_Science         :      1913\n",
      "Literacy_Language    :      2466\n"
     ]
    }
   ],
   "source": [
    "for i, j in sorted_cat_dict.items():\n",
    "    print(\"{:20} :{:10}\".format(i,j))"
   ]
  },
  {
   "cell_type": "markdown",
   "metadata": {
    "colab_type": "text",
    "id": "hqnsApdoaJbv"
   },
   "source": [
    "### 1.2.5 Univariate Analysis: project_subject_subcategories"
   ]
  },
  {
   "cell_type": "code",
   "execution_count": 135,
   "metadata": {
    "colab": {},
    "colab_type": "code",
    "id": "fuucFuPqaJbv"
   },
   "outputs": [],
   "source": [
    "sub_catogories = list(project_data['project_subject_subcategories'].values)\n",
    "# remove special characters from list of strings python: https://stackoverflow.com/a/47301924/4084039\n",
    "\n",
    "# https://www.geeksforgeeks.org/removing-stop-words-nltk-python/\n",
    "# https://stackoverflow.com/questions/23669024/how-to-strip-a-specific-word-from-a-string\n",
    "# https://stackoverflow.com/questions/8270092/remove-all-whitespace-in-a-string-in-python\n",
    "\n",
    "sub_cat_list = []\n",
    "for i in sub_catogories:\n",
    "    temp = \"\"\n",
    "    # consider we have text like this \"Math & Science, Warmth, Care & Hunger\"\n",
    "    for j in i.split(','): # it will split it in three parts [\"Math & Science\", \"Warmth\", \"Care & Hunger\"]\n",
    "        if 'The' in j.split(): # this will split each of the catogory based on space \"Math & Science\"=> \"Math\",\"&\", \"Science\"\n",
    "            j=j.replace('The','') # if we have the words \"The\" we are going to replace it with ''(i.e removing 'The')\n",
    "        j = j.replace(' ','') # we are placeing all the ' '(space) with ''(empty) ex:\"Math & Science\"=>\"Math&Science\"\n",
    "        temp +=j.strip()+\" \"#\" abc \".strip() will return \"abc\", remove the trailing spaces\n",
    "        temp = temp.replace('&','_')\n",
    "    sub_cat_list.append(temp.strip())"
   ]
  },
  {
   "cell_type": "code",
   "execution_count": 136,
   "metadata": {
    "colab": {},
    "colab_type": "code",
    "id": "EGDMvA75aJby",
    "outputId": "f13c5478-43a6-43ff-e131-22582371b588"
   },
   "outputs": [
    {
     "data": {
      "text/html": [
       "<div>\n",
       "<style scoped>\n",
       "    .dataframe tbody tr th:only-of-type {\n",
       "        vertical-align: middle;\n",
       "    }\n",
       "\n",
       "    .dataframe tbody tr th {\n",
       "        vertical-align: top;\n",
       "    }\n",
       "\n",
       "    .dataframe thead th {\n",
       "        text-align: right;\n",
       "    }\n",
       "</style>\n",
       "<table border=\"1\" class=\"dataframe\">\n",
       "  <thead>\n",
       "    <tr style=\"text-align: right;\">\n",
       "      <th></th>\n",
       "      <th>Unnamed: 0</th>\n",
       "      <th>id</th>\n",
       "      <th>teacher_id</th>\n",
       "      <th>teacher_prefix</th>\n",
       "      <th>school_state</th>\n",
       "      <th>project_submitted_datetime</th>\n",
       "      <th>project_grade_category</th>\n",
       "      <th>project_title</th>\n",
       "      <th>project_essay_1</th>\n",
       "      <th>project_essay_2</th>\n",
       "      <th>project_essay_3</th>\n",
       "      <th>project_essay_4</th>\n",
       "      <th>project_resource_summary</th>\n",
       "      <th>teacher_number_of_previously_posted_projects</th>\n",
       "      <th>project_is_approved</th>\n",
       "      <th>clean_categories</th>\n",
       "      <th>clean_subcategories</th>\n",
       "    </tr>\n",
       "  </thead>\n",
       "  <tbody>\n",
       "    <tr>\n",
       "      <th>93411</th>\n",
       "      <td>96739</td>\n",
       "      <td>p042250</td>\n",
       "      <td>1459f172060e74eed5c532d29dadaf30</td>\n",
       "      <td>Ms.</td>\n",
       "      <td>CT</td>\n",
       "      <td>2016-09-15 21:59:22</td>\n",
       "      <td>Grades 3-5</td>\n",
       "      <td>The More Words the Merrier</td>\n",
       "      <td>My third grade classroom consists of 29 studen...</td>\n",
       "      <td>These students will be using the materials dur...</td>\n",
       "      <td>NaN</td>\n",
       "      <td>NaN</td>\n",
       "      <td>My students need to read words fluently to hel...</td>\n",
       "      <td>0</td>\n",
       "      <td>1</td>\n",
       "      <td>Literacy_Language</td>\n",
       "      <td>Literacy</td>\n",
       "    </tr>\n",
       "    <tr>\n",
       "      <th>89705</th>\n",
       "      <td>143427</td>\n",
       "      <td>p250869</td>\n",
       "      <td>0547c63db5227d9af4d9b55fd9cc9d73</td>\n",
       "      <td>Mrs.</td>\n",
       "      <td>AL</td>\n",
       "      <td>2016-09-01 11:11:54</td>\n",
       "      <td>Grades 3-5</td>\n",
       "      <td>Students:  Motivated Through Technology</td>\n",
       "      <td>Our students come from a variety of different ...</td>\n",
       "      <td>Students will be learning to use Office 365 to...</td>\n",
       "      <td>NaN</td>\n",
       "      <td>NaN</td>\n",
       "      <td>My students need student computers for equal a...</td>\n",
       "      <td>2</td>\n",
       "      <td>0</td>\n",
       "      <td>Literacy_Language Math_Science</td>\n",
       "      <td>Literature_Writing Mathematics</td>\n",
       "    </tr>\n",
       "  </tbody>\n",
       "</table>\n",
       "</div>"
      ],
      "text/plain": [
       "       Unnamed: 0       id                        teacher_id teacher_prefix  \\\n",
       "93411       96739  p042250  1459f172060e74eed5c532d29dadaf30            Ms.   \n",
       "89705      143427  p250869  0547c63db5227d9af4d9b55fd9cc9d73           Mrs.   \n",
       "\n",
       "      school_state project_submitted_datetime project_grade_category  \\\n",
       "93411           CT        2016-09-15 21:59:22             Grades 3-5   \n",
       "89705           AL        2016-09-01 11:11:54             Grades 3-5   \n",
       "\n",
       "                                 project_title  \\\n",
       "93411               The More Words the Merrier   \n",
       "89705  Students:  Motivated Through Technology   \n",
       "\n",
       "                                         project_essay_1  \\\n",
       "93411  My third grade classroom consists of 29 studen...   \n",
       "89705  Our students come from a variety of different ...   \n",
       "\n",
       "                                         project_essay_2 project_essay_3  \\\n",
       "93411  These students will be using the materials dur...             NaN   \n",
       "89705  Students will be learning to use Office 365 to...             NaN   \n",
       "\n",
       "      project_essay_4                           project_resource_summary  \\\n",
       "93411             NaN  My students need to read words fluently to hel...   \n",
       "89705             NaN  My students need student computers for equal a...   \n",
       "\n",
       "       teacher_number_of_previously_posted_projects  project_is_approved  \\\n",
       "93411                                             0                    1   \n",
       "89705                                             2                    0   \n",
       "\n",
       "                     clean_categories             clean_subcategories  \n",
       "93411               Literacy_Language                        Literacy  \n",
       "89705  Literacy_Language Math_Science  Literature_Writing Mathematics  "
      ]
     },
     "execution_count": 136,
     "metadata": {},
     "output_type": "execute_result"
    }
   ],
   "source": [
    "project_data['clean_subcategories'] = sub_cat_list\n",
    "project_data.drop(['project_subject_subcategories'], axis=1, inplace=True)\n",
    "project_data.head(2)"
   ]
  },
  {
   "cell_type": "code",
   "execution_count": 137,
   "metadata": {
    "colab": {},
    "colab_type": "code",
    "id": "O4EiP97LaJb1",
    "outputId": "c6af711d-268c-4240-f7a7-63ecf1e9dcc6"
   },
   "outputs": [
    {
     "data": {
      "image/png": "[encoded data removed]",
      "text/plain": [
       "<Figure size 1440x360 with 1 Axes>"
      ]
     },
     "metadata": {},
     "output_type": "display_data"
    },
    {
     "name": "stdout",
     "output_type": "stream",
     "text": [
      "                clean_subcategories  project_is_approved  total       Avg\n",
      "183                        Literacy                  389    437  0.890160\n",
      "185            Literacy Mathematics                  385    425  0.905882\n",
      "196  Literature_Writing Mathematics                  260    299  0.869565\n",
      "184     Literacy Literature_Writing                  225    250  0.900000\n",
      "205                     Mathematics                  166    223  0.744395\n",
      "==================================================\n",
      "                    clean_subcategories  project_is_approved  total       Avg\n",
      "10   AppliedSciences Literature_Writing                   20     21  0.952381\n",
      "193                 Literacy VisualArts                   16     21  0.761905\n",
      "171          Health_Wellness TeamSports                   18     21  0.857143\n",
      "133                    ForeignLanguages                   14     20  0.700000\n",
      "17           AppliedSciences VisualArts                   16     20  0.800000\n"
     ]
    }
   ],
   "source": [
    "univariate_barplots(project_data, 'clean_subcategories', 'project_is_approved', top=50)"
   ]
  },
  {
   "cell_type": "code",
   "execution_count": 138,
   "metadata": {
    "colab": {},
    "colab_type": "code",
    "id": "M-mfsKtyaJb5"
   },
   "outputs": [],
   "source": [
    "# count of all the words in corpus python: https://stackoverflow.com/a/22898595/4084039\n",
    "from collections import Counter\n",
    "my_counter = Counter()\n",
    "for word in project_data['clean_subcategories'].values:\n",
    "    my_counter.update(word.split())"
   ]
  },
  {
   "cell_type": "code",
   "execution_count": 139,
   "metadata": {
    "colab": {},
    "colab_type": "code",
    "id": "6llm_fjMaJb7",
    "outputId": "f00fa45f-e2a8-472f-d76d-6da0676a404a"
   },
   "outputs": [
    {
     "data": {
      "image/png": "[encoded data removed]",
      "text/plain": [
       "<Figure size 1440x360 with 1 Axes>"
      ]
     },
     "metadata": {},
     "output_type": "display_data"
    }
   ],
   "source": [
    "# dict sort by value python: https://stackoverflow.com/a/613218/4084039\n",
    "sub_cat_dict = dict(my_counter)\n",
    "sorted_sub_cat_dict = dict(sorted(sub_cat_dict.items(), key=lambda kv: kv[1]))\n",
    "\n",
    "\n",
    "ind = np.arange(len(sorted_sub_cat_dict))\n",
    "plt.figure(figsize=(20,5))\n",
    "p1 = plt.bar(ind, list(sorted_sub_cat_dict.values()))\n",
    "\n",
    "plt.ylabel('Projects')\n",
    "plt.title('% of projects aproved sub category wise')\n",
    "plt.xticks(ind, list(sorted_sub_cat_dict.keys()))\n",
    "plt.show()"
   ]
  },
  {
   "cell_type": "code",
   "execution_count": 140,
   "metadata": {
    "colab": {},
    "colab_type": "code",
    "id": "HZ5p6n8HaJb_",
    "outputId": "34a42549-3f47-431f-a2c2-6106bf3c282b"
   },
   "outputs": [
    {
     "name": "stdout",
     "output_type": "stream",
     "text": [
      "Economics            :        10\n",
      "CommunityService     :        13\n",
      "ParentInvolvement    :        21\n",
      "FinancialLiteracy    :        28\n",
      "Extracurricular      :        30\n",
      "Civics_Government    :        37\n",
      "ForeignLanguages     :        42\n",
      "Warmth               :        61\n",
      "Care_Hunger          :        61\n",
      "NutritionEducation   :        67\n",
      "PerformingArts       :        87\n",
      "CharacterEducation   :        91\n",
      "SocialSciences       :        92\n",
      "TeamSports           :       100\n",
      "Other                :       109\n",
      "College_CareerPrep   :       116\n",
      "Music                :       138\n",
      "History_Geography    :       151\n",
      "Health_LifeScience   :       180\n",
      "ESL                  :       187\n",
      "Gym_Fitness          :       197\n",
      "EarlyDevelopment     :       212\n",
      "EnvironmentalScience :       268\n",
      "VisualArts           :       288\n",
      "Health_Wellness      :       474\n",
      "AppliedSciences      :       489\n",
      "SpecialNeeds         :       601\n",
      "Literature_Writing   :      1043\n",
      "Mathematics          :      1318\n",
      "Literacy             :      1596\n"
     ]
    }
   ],
   "source": [
    "for i, j in sorted_sub_cat_dict.items():\n",
    "    print(\"{:20} :{:10}\".format(i,j))"
   ]
  },
  {
   "cell_type": "markdown",
   "metadata": {
    "colab_type": "text",
    "id": "MDUTl1iAaJcC"
   },
   "source": [
    "### 1.2.6 Univariate Analysis: Text features (Title)"
   ]
  },
  {
   "cell_type": "code",
   "execution_count": 141,
   "metadata": {
    "colab": {},
    "colab_type": "code",
    "id": "XB7R1hsSaJcC",
    "outputId": "d0aa9e5b-db0a-48fd-f4ab-eecd2085cf43"
   },
   "outputs": [
    {
     "data": {
      "image/png": "[encoded data removed]",
      "text/plain": [
       "<Figure size 1440x360 with 1 Axes>"
      ]
     },
     "metadata": {},
     "output_type": "display_data"
    }
   ],
   "source": [
    "#How to calculate number of words in a string in DataFrame: https://stackoverflow.com/a/37483537/4084039\n",
    "word_count = project_data['project_title'].str.split().apply(len).value_counts()\n",
    "word_dict = dict(word_count)\n",
    "word_dict = dict(sorted(word_dict.items(), key=lambda kv: kv[1]))\n",
    "\n",
    "\n",
    "ind = np.arange(len(word_dict))\n",
    "plt.figure(figsize=(20,5))\n",
    "p1 = plt.bar(ind, list(word_dict.values()))\n",
    "\n",
    "plt.ylabel('Number of projects')\n",
    "plt.xlabel('Number words in project title')\n",
    "plt.title('Words for each title of the project')\n",
    "plt.xticks(ind, list(word_dict.keys()))\n",
    "plt.show()"
   ]
  },
  {
   "cell_type": "code",
   "execution_count": 142,
   "metadata": {
    "colab": {},
    "colab_type": "code",
    "id": "p7K3PYqIaJcF"
   },
   "outputs": [],
   "source": [
    "approved_title_word_count = project_data[project_data['project_is_approved']==1]['project_title'].str.split().apply(len)\n",
    "approved_title_word_count = approved_title_word_count.values\n",
    "\n",
    "rejected_title_word_count = project_data[project_data['project_is_approved']==0]['project_title'].str.split().apply(len)\n",
    "rejected_title_word_count = rejected_title_word_count.values"
   ]
  },
  {
   "cell_type": "code",
   "execution_count": 143,
   "metadata": {
    "colab": {},
    "colab_type": "code",
    "id": "G3dpNOjgaJcH",
    "outputId": "6b105677-ef5f-42f1-d1aa-a8d678cb5391"
   },
   "outputs": [
    {
     "data": {
      "image/png": "[encoded data removed]",
      "text/plain": [
       "<Figure size 432x288 with 1 Axes>"
      ]
     },
     "metadata": {},
     "output_type": "display_data"
    }
   ],
   "source": [
    "# https://glowingpython.blogspot.com/2012/09/boxplot-with-matplotlib.html\n",
    "plt.boxplot([approved_title_word_count, rejected_title_word_count])\n",
    "plt.xticks([1,2],('Approved Projects','Rejected Projects'))\n",
    "plt.ylabel('Words in project title')\n",
    "plt.grid()\n",
    "plt.show()"
   ]
  },
  {
   "cell_type": "markdown",
   "metadata": {},
   "source": [
    "#### Summary:Having more words makes it more descriptive and hence leads to increased probablity approval "
   ]
  },
  {
   "cell_type": "code",
   "execution_count": 144,
   "metadata": {
    "colab": {},
    "colab_type": "code",
    "id": "4v9vZDlPaJcK",
    "outputId": "73039ef3-5a8e-46b8-d344-2a0d90ae5a90"
   },
   "outputs": [
    {
     "data": {
      "image/png": "[encoded data removed]",
      "text/plain": [
       "<Figure size 720x216 with 1 Axes>"
      ]
     },
     "metadata": {},
     "output_type": "display_data"
    }
   ],
   "source": [
    "plt.figure(figsize=(10,3))\n",
    "sns.kdeplot(approved_title_word_count,label=\"Approved Projects\", bw=0.6)\n",
    "sns.kdeplot(rejected_title_word_count,label=\"Not Approved Projects\", bw=0.6)\n",
    "plt.legend()\n",
    "plt.show()"
   ]
  },
  {
   "cell_type": "markdown",
   "metadata": {
    "colab_type": "text",
    "id": "eWIdgjtHaJcM"
   },
   "source": [
    "### 1.2.7 Univariate Analysis: Text features (Project Essay's)"
   ]
  },
  {
   "cell_type": "code",
   "execution_count": 145,
   "metadata": {
    "colab": {},
    "colab_type": "code",
    "id": "VbFu4ASuaJcM"
   },
   "outputs": [],
   "source": [
    "# merge two column text dataframe: \n",
    "project_data[\"essay\"] = project_data[\"project_essay_1\"].map(str) +\\\n",
    "                        project_data[\"project_essay_2\"].map(str) + \\\n",
    "                        project_data[\"project_essay_3\"].map(str) + \\\n",
    "                        project_data[\"project_essay_4\"].map(str)"
   ]
  },
  {
   "cell_type": "code",
   "execution_count": 146,
   "metadata": {
    "colab": {},
    "colab_type": "code",
    "id": "LMtLZgJ6aJcO"
   },
   "outputs": [],
   "source": [
    "approved_word_count = project_data[project_data['project_is_approved']==1]['essay'].str.split().apply(len)\n",
    "approved_word_count = approved_word_count.values\n",
    "\n",
    "rejected_word_count = project_data[project_data['project_is_approved']==0]['essay'].str.split().apply(len)\n",
    "rejected_word_count = rejected_word_count.values"
   ]
  },
  {
   "cell_type": "code",
   "execution_count": 147,
   "metadata": {
    "colab": {},
    "colab_type": "code",
    "id": "dfP35Qj4aJcQ",
    "outputId": "1745df92-69de-47ea-d830-699bbb07a939"
   },
   "outputs": [
    {
     "data": {
      "image/png": "[encoded data removed]",
      "text/plain": [
       "<Figure size 432x288 with 1 Axes>"
      ]
     },
     "metadata": {},
     "output_type": "display_data"
    }
   ],
   "source": [
    "# https://glowingpython.blogspot.com/2012/09/boxplot-with-matplotlib.html\n",
    "plt.boxplot([approved_word_count, rejected_word_count])\n",
    "plt.title('Words for each essay of the project')\n",
    "plt.xticks([1,2],('Approved Projects','Rejected Projects'))\n",
    "plt.ylabel('Words in project essays')\n",
    "plt.grid()\n",
    "plt.show()"
   ]
  },
  {
   "cell_type": "code",
   "execution_count": 148,
   "metadata": {
    "colab": {},
    "colab_type": "code",
    "id": "TDFkNuj8aJcS",
    "outputId": "b1d3f775-768f-46e3-d3f2-8d9e91b34794"
   },
   "outputs": [
    {
     "data": {
      "image/png": "[encoded data removed]",
      "text/plain": [
       "<Figure size 720x216 with 1 Axes>"
      ]
     },
     "metadata": {},
     "output_type": "display_data"
    }
   ],
   "source": [
    "plt.figure(figsize=(10,3))\n",
    "sns.distplot(approved_word_count, hist=False, label=\"Approved Projects\")\n",
    "sns.distplot(rejected_word_count, hist=False, label=\"Not Approved Projects\")\n",
    "plt.title('Words for each essay of the project')\n",
    "plt.xlabel('Number of words in each eassay')\n",
    "plt.legend()\n",
    "plt.show()"
   ]
  },
  {
   "cell_type": "markdown",
   "metadata": {},
   "source": [
    "#### Summary:Having more words makes it more descriptive and hence leads to increased probablity of approval "
   ]
  },
  {
   "cell_type": "markdown",
   "metadata": {
    "colab_type": "text",
    "id": "eAr4K8J4aJcV"
   },
   "source": [
    "### 1.2.8 Univariate Analysis: Cost per project"
   ]
  },
  {
   "cell_type": "code",
   "execution_count": 149,
   "metadata": {
    "colab": {},
    "colab_type": "code",
    "id": "DCd2dI6eaJcV",
    "outputId": "89d8283f-63c8-4c53-ff8d-8401776b33fd"
   },
   "outputs": [
    {
     "data": {
      "text/html": [
       "<div>\n",
       "<style scoped>\n",
       "    .dataframe tbody tr th:only-of-type {\n",
       "        vertical-align: middle;\n",
       "    }\n",
       "\n",
       "    .dataframe tbody tr th {\n",
       "        vertical-align: top;\n",
       "    }\n",
       "\n",
       "    .dataframe thead th {\n",
       "        text-align: right;\n",
       "    }\n",
       "</style>\n",
       "<table border=\"1\" class=\"dataframe\">\n",
       "  <thead>\n",
       "    <tr style=\"text-align: right;\">\n",
       "      <th></th>\n",
       "      <th>id</th>\n",
       "      <th>description</th>\n",
       "      <th>quantity</th>\n",
       "      <th>price</th>\n",
       "    </tr>\n",
       "  </thead>\n",
       "  <tbody>\n",
       "    <tr>\n",
       "      <th>0</th>\n",
       "      <td>p233245</td>\n",
       "      <td>LC652 - Lakeshore Double-Space Mobile Drying Rack</td>\n",
       "      <td>1</td>\n",
       "      <td>149.00</td>\n",
       "    </tr>\n",
       "    <tr>\n",
       "      <th>1</th>\n",
       "      <td>p069063</td>\n",
       "      <td>Bouncy Bands for Desks (Blue support pipes)</td>\n",
       "      <td>3</td>\n",
       "      <td>14.95</td>\n",
       "    </tr>\n",
       "  </tbody>\n",
       "</table>\n",
       "</div>"
      ],
      "text/plain": [
       "        id                                        description  quantity  \\\n",
       "0  p233245  LC652 - Lakeshore Double-Space Mobile Drying Rack         1   \n",
       "1  p069063        Bouncy Bands for Desks (Blue support pipes)         3   \n",
       "\n",
       "    price  \n",
       "0  149.00  \n",
       "1   14.95  "
      ]
     },
     "execution_count": 149,
     "metadata": {},
     "output_type": "execute_result"
    }
   ],
   "source": [
    "# we get the cost of the project using resource.csv file\n",
    "resource_data.head(2)"
   ]
  },
  {
   "cell_type": "code",
   "execution_count": 150,
   "metadata": {
    "colab": {},
    "colab_type": "code",
    "id": "ynKLwBKyaJcX",
    "outputId": "02385313-fe79-475f-cde7-64acfca30cf1"
   },
   "outputs": [
    {
     "data": {
      "text/html": [
       "<div>\n",
       "<style scoped>\n",
       "    .dataframe tbody tr th:only-of-type {\n",
       "        vertical-align: middle;\n",
       "    }\n",
       "\n",
       "    .dataframe tbody tr th {\n",
       "        vertical-align: top;\n",
       "    }\n",
       "\n",
       "    .dataframe thead th {\n",
       "        text-align: right;\n",
       "    }\n",
       "</style>\n",
       "<table border=\"1\" class=\"dataframe\">\n",
       "  <thead>\n",
       "    <tr style=\"text-align: right;\">\n",
       "      <th></th>\n",
       "      <th>id</th>\n",
       "      <th>price</th>\n",
       "      <th>quantity</th>\n",
       "    </tr>\n",
       "  </thead>\n",
       "  <tbody>\n",
       "    <tr>\n",
       "      <th>0</th>\n",
       "      <td>p000001</td>\n",
       "      <td>459.56</td>\n",
       "      <td>7</td>\n",
       "    </tr>\n",
       "    <tr>\n",
       "      <th>1</th>\n",
       "      <td>p000002</td>\n",
       "      <td>515.89</td>\n",
       "      <td>21</td>\n",
       "    </tr>\n",
       "  </tbody>\n",
       "</table>\n",
       "</div>"
      ],
      "text/plain": [
       "        id   price  quantity\n",
       "0  p000001  459.56         7\n",
       "1  p000002  515.89        21"
      ]
     },
     "execution_count": 150,
     "metadata": {},
     "output_type": "execute_result"
    }
   ],
   "source": [
    "# https://stackoverflow.com/questions/22407798/how-to-reset-a-dataframes-indexes-for-all-groups-in-one-step\n",
    "price_data = resource_data.groupby('id').agg({'price':'sum', 'quantity':'sum'}).reset_index()\n",
    "price_data.head(2)"
   ]
  },
  {
   "cell_type": "code",
   "execution_count": 151,
   "metadata": {
    "colab": {},
    "colab_type": "code",
    "id": "mY4NLTFNaJca"
   },
   "outputs": [],
   "source": [
    "# join two dataframes in python: \n",
    "project_data = pd.merge(project_data, price_data, on='id', how='left')"
   ]
  },
  {
   "cell_type": "code",
   "execution_count": 152,
   "metadata": {
    "colab": {},
    "colab_type": "code",
    "id": "NftGuuYEaJcc"
   },
   "outputs": [],
   "source": [
    "approved_price = project_data[project_data['project_is_approved']==1]['price'].values\n",
    "\n",
    "rejected_price = project_data[project_data['project_is_approved']==0]['price'].values"
   ]
  },
  {
   "cell_type": "code",
   "execution_count": 153,
   "metadata": {
    "colab": {},
    "colab_type": "code",
    "id": "q7r37jCjaJcd",
    "outputId": "a7cbdb66-a641-45bd-8111-7ec7b0095da3"
   },
   "outputs": [
    {
     "data": {
      "image/png": "[encoded data removed]",
      "text/plain": [
       "<Figure size 432x288 with 1 Axes>"
      ]
     },
     "metadata": {},
     "output_type": "display_data"
    }
   ],
   "source": [
    "# https://glowingpython.blogspot.com/2012/09/boxplot-with-matplotlib.html\n",
    "plt.boxplot([approved_price, rejected_price])\n",
    "plt.title('Box Plots of Cost per approved and not approved Projects')\n",
    "plt.xticks([1,2],('Approved Projects','Rejected Projects'))\n",
    "plt.ylabel('Price')\n",
    "plt.grid()\n",
    "plt.show()"
   ]
  },
  {
   "cell_type": "code",
   "execution_count": 154,
   "metadata": {
    "colab": {},
    "colab_type": "code",
    "id": "ooqInUqlaJcf",
    "outputId": "72f9715d-4092-46c9-9f9d-8fcced5e341e"
   },
   "outputs": [
    {
     "data": {
      "image/png": "[encoded data removed]",
      "text/plain": [
       "<Figure size 720x216 with 1 Axes>"
      ]
     },
     "metadata": {},
     "output_type": "display_data"
    }
   ],
   "source": [
    "plt.figure(figsize=(10,3))\n",
    "sns.distplot(approved_price, hist=False, label=\"Approved Projects\")\n",
    "sns.distplot(rejected_price, hist=False, label=\"Not Approved Projects\")\n",
    "plt.title('Cost per approved and not approved Projects')\n",
    "plt.xlabel('Cost of a project')\n",
    "plt.legend()\n",
    "plt.show()"
   ]
  },
  {
   "cell_type": "code",
   "execution_count": 155,
   "metadata": {
    "colab": {},
    "colab_type": "code",
    "id": "lnfwCqdRaJch",
    "outputId": "e3c94d54-4d6e-46c3-b42c-cb8331392a3e"
   },
   "outputs": [
    {
     "name": "stdout",
     "output_type": "stream",
     "text": [
      "+------------+-------------------+-----------------------+\n",
      "| Percentile | Approved Projects | Not Approved Projects |\n",
      "+------------+-------------------+-----------------------+\n",
      "|     0      |        0.92       |          5.25         |\n",
      "|     5      |       13.048      |         46.33         |\n",
      "|     10     |       33.98       |         71.98         |\n",
      "|     15     |       57.558      |         95.58         |\n",
      "|     20     |       74.48       |         111.33        |\n",
      "|     25     |       98.99       |        136.015        |\n",
      "|     30     |      113.968      |         158.6         |\n",
      "|     35     |      136.704      |        182.065        |\n",
      "|     40     |       157.0       |         211.13        |\n",
      "|     45     |      177.164      |         244.62        |\n",
      "|     50     |       196.99      |         273.49        |\n",
      "|     55     |      221.082      |        299.435        |\n",
      "|     60     |      253.798      |         328.56        |\n",
      "|     65     |      280.078      |        381.185        |\n",
      "|     70     |      317.002      |         409.84        |\n",
      "|     75     |       359.99      |        460.085        |\n",
      "|     80     |      404.746      |         546.9         |\n",
      "|     85     |      473.876      |        643.625        |\n",
      "|     90     |       569.72      |         730.09        |\n",
      "|     95     |      779.718      |        1040.245       |\n",
      "|    100     |       3999.0      |         3421.2        |\n",
      "+------------+-------------------+-----------------------+\n"
     ]
    }
   ],
   "source": [
    "# http://zetcode.com/python/prettytable/\n",
    "from prettytable import PrettyTable\n",
    "\n",
    "#If you get a ModuleNotFoundError error , install prettytable using: pip3 install prettytable\n",
    "\n",
    "x = PrettyTable()\n",
    "x.field_names = [\"Percentile\", \"Approved Projects\", \"Not Approved Projects\"]\n",
    "\n",
    "for i in range(0,101,5):\n",
    "    x.add_row([i,np.round(np.percentile(approved_price,i), 3), np.round(np.percentile(rejected_price,i), 3)])\n",
    "print(x)"
   ]
  },
  {
   "cell_type": "markdown",
   "metadata": {},
   "source": [
    "#### Summary: it is quite evident that lower pricing projects have higher approval rates"
   ]
  },
  {
   "cell_type": "markdown",
   "metadata": {
    "colab_type": "text",
    "id": "Qq8L1X89aJcj"
   },
   "source": [
    "<h3><font color='red'>1.2.9 Univariate Analysis: teacher_number_of_previously_posted_projects</font></h3>"
   ]
  },
  {
   "cell_type": "markdown",
   "metadata": {
    "colab_type": "text",
    "id": "wIbk6TnfaJck"
   },
   "source": [
    "Please do this on your own based on the data analysis that was done in the above cells"
   ]
  },
  {
   "cell_type": "code",
   "execution_count": 156,
   "metadata": {},
   "outputs": [
    {
     "data": {
      "image/png": "[encoded data removed]",
      "text/plain": [
       "<Figure size 1440x360 with 1 Axes>"
      ]
     },
     "metadata": {},
     "output_type": "display_data"
    },
    {
     "name": "stdout",
     "output_type": "stream",
     "text": [
      "   teacher_number_of_previously_posted_projects  project_is_approved  total  \\\n",
      "0                                             0                 1167   1407   \n",
      "1                                             1                  582    697   \n",
      "2                                             2                  406    482   \n",
      "3                                             3                  277    324   \n",
      "4                                             4                  217    257   \n",
      "\n",
      "        Avg  \n",
      "0  0.829424  \n",
      "1  0.835007  \n",
      "2  0.842324  \n",
      "3  0.854938  \n",
      "4  0.844358  \n",
      "==================================================\n",
      "     teacher_number_of_previously_posted_projects  project_is_approved  total  \\\n",
      "133                                           153                    1      1   \n",
      "136                                           156                    0      1   \n",
      "137                                           157                    0      1   \n",
      "138                                           160                    1      1   \n",
      "171                                           351                    1      1   \n",
      "\n",
      "     Avg  \n",
      "133  1.0  \n",
      "136  0.0  \n",
      "137  0.0  \n",
      "138  1.0  \n",
      "171  1.0  \n"
     ]
    }
   ],
   "source": [
    "univariate_barplots(project_data, 'teacher_number_of_previously_posted_projects', 'project_is_approved',)"
   ]
  },
  {
   "cell_type": "markdown",
   "metadata": {},
   "source": [
    "#### Summary: We can't find any solid ground with this feature. "
   ]
  },
  {
   "cell_type": "markdown",
   "metadata": {
    "colab_type": "text",
    "id": "74frDDqAaJck"
   },
   "source": [
    "<h3><font color='red'>1.2.10 Univariate Analysis: project_resource_summary</font></h3>"
   ]
  },
  {
   "cell_type": "markdown",
   "metadata": {
    "colab_type": "text",
    "id": "PmGfe2Z_aJcl"
   },
   "source": [
    "Please do this on your own based on the data analysis that was done in the above cells\n",
    "\n",
    "Check if the `presence of the numerical digits` in the `project_resource_summary` effects the acceptance of the project or not. If you observe that `presence of the numerical digits` is helpful in the classification, please include it for further process or you can ignore it."
   ]
  },
  {
   "cell_type": "code",
   "execution_count": 157,
   "metadata": {},
   "outputs": [],
   "source": [
    "list_project_resource_summary =list(project_data['project_resource_summary'].values)\n",
    "\n",
    "presence_numeric=[]\n",
    "for prs in list_project_resource_summary:\n",
    "    if any(char.isdigit() for char in prs):\n",
    "        presence_numeric.append(1)\n",
    "    else:\n",
    "        presence_numeric.append(0)\n"
   ]
  },
  {
   "cell_type": "code",
   "execution_count": 158,
   "metadata": {},
   "outputs": [],
   "source": [
    "project_data['Numeric_presence_summary']=presence_numeric\n"
   ]
  },
  {
   "cell_type": "code",
   "execution_count": 159,
   "metadata": {},
   "outputs": [
    {
     "data": {
      "image/png": "[encoded data removed]",
      "text/plain": [
       "<Figure size 1440x360 with 1 Axes>"
      ]
     },
     "metadata": {},
     "output_type": "display_data"
    },
    {
     "name": "stdout",
     "output_type": "stream",
     "text": [
      "   Numeric_presence_summary  project_is_approved  total       Avg\n",
      "0                         0                 3635   4309  0.843583\n",
      "1                         1                  634    691  0.917511\n",
      "==================================================\n",
      "   Numeric_presence_summary  project_is_approved  total       Avg\n",
      "0                         0                 3635   4309  0.843583\n",
      "1                         1                  634    691  0.917511\n"
     ]
    }
   ],
   "source": [
    "univariate_barplots(project_data, 'Numeric_presence_summary', 'project_is_approved')"
   ]
  },
  {
   "cell_type": "markdown",
   "metadata": {},
   "source": [
    "#### Summary: presence of the numerical digits in the project_resource_summary effects the acceptance of the project "
   ]
  },
  {
   "cell_type": "markdown",
   "metadata": {
    "colab_type": "text",
    "id": "u_t7hAfyaJcl"
   },
   "source": [
    "## 1.3 Text preprocessing"
   ]
  },
  {
   "cell_type": "markdown",
   "metadata": {
    "colab_type": "text",
    "id": "hV8-QvxGaJcm"
   },
   "source": [
    "### 1.3.1 Essay Text"
   ]
  },
  {
   "cell_type": "code",
   "execution_count": 160,
   "metadata": {
    "colab": {},
    "colab_type": "code",
    "id": "WMkfWyz4aJcm",
    "outputId": "65273ab4-e7ee-49a4-ce66-cd44e9bec647"
   },
   "outputs": [
    {
     "data": {
      "text/html": [
       "<div>\n",
       "<style scoped>\n",
       "    .dataframe tbody tr th:only-of-type {\n",
       "        vertical-align: middle;\n",
       "    }\n",
       "\n",
       "    .dataframe tbody tr th {\n",
       "        vertical-align: top;\n",
       "    }\n",
       "\n",
       "    .dataframe thead th {\n",
       "        text-align: right;\n",
       "    }\n",
       "</style>\n",
       "<table border=\"1\" class=\"dataframe\">\n",
       "  <thead>\n",
       "    <tr style=\"text-align: right;\">\n",
       "      <th></th>\n",
       "      <th>Unnamed: 0</th>\n",
       "      <th>id</th>\n",
       "      <th>teacher_id</th>\n",
       "      <th>teacher_prefix</th>\n",
       "      <th>school_state</th>\n",
       "      <th>project_submitted_datetime</th>\n",
       "      <th>project_grade_category</th>\n",
       "      <th>project_title</th>\n",
       "      <th>project_essay_1</th>\n",
       "      <th>project_essay_2</th>\n",
       "      <th>...</th>\n",
       "      <th>project_essay_4</th>\n",
       "      <th>project_resource_summary</th>\n",
       "      <th>teacher_number_of_previously_posted_projects</th>\n",
       "      <th>project_is_approved</th>\n",
       "      <th>clean_categories</th>\n",
       "      <th>clean_subcategories</th>\n",
       "      <th>essay</th>\n",
       "      <th>price</th>\n",
       "      <th>quantity</th>\n",
       "      <th>Numeric_presence_summary</th>\n",
       "    </tr>\n",
       "  </thead>\n",
       "  <tbody>\n",
       "    <tr>\n",
       "      <th>0</th>\n",
       "      <td>96739</td>\n",
       "      <td>p042250</td>\n",
       "      <td>1459f172060e74eed5c532d29dadaf30</td>\n",
       "      <td>Ms.</td>\n",
       "      <td>CT</td>\n",
       "      <td>2016-09-15 21:59:22</td>\n",
       "      <td>Grades 3-5</td>\n",
       "      <td>The More Words the Merrier</td>\n",
       "      <td>My third grade classroom consists of 29 studen...</td>\n",
       "      <td>These students will be using the materials dur...</td>\n",
       "      <td>...</td>\n",
       "      <td>NaN</td>\n",
       "      <td>My students need to read words fluently to hel...</td>\n",
       "      <td>0</td>\n",
       "      <td>1</td>\n",
       "      <td>Literacy_Language</td>\n",
       "      <td>Literacy</td>\n",
       "      <td>My third grade classroom consists of 29 studen...</td>\n",
       "      <td>546.99</td>\n",
       "      <td>4</td>\n",
       "      <td>0</td>\n",
       "    </tr>\n",
       "    <tr>\n",
       "      <th>1</th>\n",
       "      <td>143427</td>\n",
       "      <td>p250869</td>\n",
       "      <td>0547c63db5227d9af4d9b55fd9cc9d73</td>\n",
       "      <td>Mrs.</td>\n",
       "      <td>AL</td>\n",
       "      <td>2016-09-01 11:11:54</td>\n",
       "      <td>Grades 3-5</td>\n",
       "      <td>Students:  Motivated Through Technology</td>\n",
       "      <td>Our students come from a variety of different ...</td>\n",
       "      <td>Students will be learning to use Office 365 to...</td>\n",
       "      <td>...</td>\n",
       "      <td>NaN</td>\n",
       "      <td>My students need student computers for equal a...</td>\n",
       "      <td>2</td>\n",
       "      <td>0</td>\n",
       "      <td>Literacy_Language Math_Science</td>\n",
       "      <td>Literature_Writing Mathematics</td>\n",
       "      <td>Our students come from a variety of different ...</td>\n",
       "      <td>214.89</td>\n",
       "      <td>3</td>\n",
       "      <td>0</td>\n",
       "    </tr>\n",
       "  </tbody>\n",
       "</table>\n",
       "<p>2 rows × 21 columns</p>\n",
       "</div>"
      ],
      "text/plain": [
       "   Unnamed: 0       id                        teacher_id teacher_prefix  \\\n",
       "0       96739  p042250  1459f172060e74eed5c532d29dadaf30            Ms.   \n",
       "1      143427  p250869  0547c63db5227d9af4d9b55fd9cc9d73           Mrs.   \n",
       "\n",
       "  school_state project_submitted_datetime project_grade_category  \\\n",
       "0           CT        2016-09-15 21:59:22             Grades 3-5   \n",
       "1           AL        2016-09-01 11:11:54             Grades 3-5   \n",
       "\n",
       "                             project_title  \\\n",
       "0               The More Words the Merrier   \n",
       "1  Students:  Motivated Through Technology   \n",
       "\n",
       "                                     project_essay_1  \\\n",
       "0  My third grade classroom consists of 29 studen...   \n",
       "1  Our students come from a variety of different ...   \n",
       "\n",
       "                                     project_essay_2  \\\n",
       "0  These students will be using the materials dur...   \n",
       "1  Students will be learning to use Office 365 to...   \n",
       "\n",
       "             ...            project_essay_4  \\\n",
       "0            ...                        NaN   \n",
       "1            ...                        NaN   \n",
       "\n",
       "                            project_resource_summary  \\\n",
       "0  My students need to read words fluently to hel...   \n",
       "1  My students need student computers for equal a...   \n",
       "\n",
       "  teacher_number_of_previously_posted_projects  project_is_approved  \\\n",
       "0                                            0                    1   \n",
       "1                                            2                    0   \n",
       "\n",
       "                 clean_categories             clean_subcategories  \\\n",
       "0               Literacy_Language                        Literacy   \n",
       "1  Literacy_Language Math_Science  Literature_Writing Mathematics   \n",
       "\n",
       "                                               essay   price  quantity  \\\n",
       "0  My third grade classroom consists of 29 studen...  546.99         4   \n",
       "1  Our students come from a variety of different ...  214.89         3   \n",
       "\n",
       "   Numeric_presence_summary  \n",
       "0                         0  \n",
       "1                         0  \n",
       "\n",
       "[2 rows x 21 columns]"
      ]
     },
     "execution_count": 160,
     "metadata": {},
     "output_type": "execute_result"
    }
   ],
   "source": [
    "project_data.head(2)\n"
   ]
  },
  {
   "cell_type": "code",
   "execution_count": 161,
   "metadata": {
    "colab": {},
    "colab_type": "code",
    "id": "-8c1-F07aJco",
    "outputId": "45cbb92d-92fd-43a6-c9ef-40e068743409"
   },
   "outputs": [
    {
     "name": "stdout",
     "output_type": "stream",
     "text": [
      "My third grade classroom consists of 29 students.  As a teacher in a low-income/high poverty school district, my students are faced with several challenges both in and out of the classroom. Despite the many challenges they face. I am looking to keep things simple and provide my students with meaningful reading experiences. These students vary in academic levels and often struggle with staying on task and being able to answer comprehension questions.  Yet, even with their struggle they are still willing to try and put effort into their schooling.  These children want their education and I want to be at least one person to help them meet their reading goal.  \\r\\n\\r\\nMy students are always eager to pick out a book of interest.\\r\\n\\r\\nMany of them are being raised in single parent households and receive a free lunch based on their socioeconomic status. These things may prevent them from getting ahead early in life and may not provide them with the life experiences many of us see as \\\"typical\\\".These students will be using the materials during SRBI.  Where I will be working with students based on ability groupings. The students who are not working with me at that time will have the luxury of having interesting and intriguing books read to them with the read along books.   Allowing them to read the words with the story.  The students can become more familiar with the words, build their fluency, as well as listening and comprehending what is being read to them.  \\r\\nThis can bring back the excitement of reading as well as build each and every students confidence with their own reading.\\r\\nThe non-fiction leveled books can allow ALL 29 of my students the chance to read and look at the intriguing photographs to help them along with their reading.  This allows them to feel reading as a reward and not so much as \\\"work\\\".nannan\n",
      "==================================================\n",
      "Imagine a classroom where students get to bring lessons to life through real-world application. My students walk into our classroom excited to learn and explore. \\r\\n\\r\\nMy students are wonderful and from every background that you can imagine. Several of my students have parents that are deployed or have parents in the military. Our school is a large elementary school housing around 900. Our students come from high poverty areas as well as well-to-do backgrounds. My kindergarteners are eager to learn and to learn with activities outside of the box. They constantly ask for hands-on activities or interactive activities. Most importantly they are extremely creative. My students have ambition and desire to learn beyond books. They are thirsting for an opportunity to connect the regular academics to real-world application.Kindergarten is the start to the wonderful adventure of learning! \\r\\nImagine being a five year old in class  learning numbers , addition and subtraction through augmented reality. The kids love watching the animals move. \\r\\n\\r\\nThe Math Alive kit will help capture the interest of young kids and inspire them to learn. With this kit kids could have a station where they build numbers and equations. I had an opportunity to try the kit out at GAETC and I was captivated by the lessons. \\r\\nStudents can build numbers with number  cards and once they build an equation  it comes \\\"to life\\\" on the screen. I believe this kit will reach all learners no matter their level. These cards can help differentiate lessons. \\r\\nPlease consider donating to our Math Is Alive Oh My project!nannan\n",
      "==================================================\n",
      "I work with children that all live below poverty level in a rough neighborhood in San Antonio. Our school provides us with limited resources due to lack of funding. \\r\\nMy students are eager learners. The world is at their fingertips and I want to provide them with the most amazing experiences that they will remember always. \\r\\nMy students learn through play and hands-on learning. By bringing in more science materials for my classroom, I will be able to provide awesome, exciting materials for them to explore and learn.Being able to provide these materials to my students will ingnite curiosity, build vocabulary, and give them a chance at more hands on activities which pre-k students thrive on. I would hope that bringing science materials in my class would eventually lead to science careers for some of my students. They are in a low income school which they don't have many opportunities to explore materials such as these science tools. They will learn how to hypothesize, and test the materials as well as verbalize a conclusion of what they learned. I dream that they will get wonderful opportunities I had as a child.nannan\n"
     ]
    }
   ],
   "source": [
    "# printing some random essays.\n",
    "print(project_data['essay'].values[0])\n",
    "print(\"=\"*50)\n",
    "print(project_data['essay'].values[150])\n",
    "print(\"=\"*50)\n",
    "print(project_data['essay'].values[1000])\n",
    "# print(\"=\"*50)\n",
    "# print(project_data['essay'].values[20000])\n",
    "# print(\"=\"*50)\n",
    "# print(project_data['essay'].values[99999])\n",
    "# print(\"=\"*50)\n"
   ]
  },
  {
   "cell_type": "code",
   "execution_count": 162,
   "metadata": {
    "colab": {},
    "colab_type": "code",
    "id": "T_lC4-p3aJcq"
   },
   "outputs": [],
   "source": [
    "# https://stackoverflow.com/a/47091490/4084039\n",
    "import re\n",
    "\n",
    "def decontracted(phrase):\n",
    "    # specific\n",
    "    phrase = re.sub(r\"won't\", \"will not\", phrase)\n",
    "    phrase = re.sub(r\"can\\'t\", \"can not\", phrase)\n",
    "\n",
    "    # general\n",
    "    phrase = re.sub(r\"n\\'t\", \" not\", phrase)\n",
    "    phrase = re.sub(r\"\\'re\", \" are\", phrase)\n",
    "    phrase = re.sub(r\"\\'s\", \" is\", phrase)\n",
    "    phrase = re.sub(r\"\\'d\", \" would\", phrase)\n",
    "    phrase = re.sub(r\"\\'ll\", \" will\", phrase)\n",
    "    phrase = re.sub(r\"\\'t\", \" not\", phrase)\n",
    "    phrase = re.sub(r\"\\'ve\", \" have\", phrase)\n",
    "    phrase = re.sub(r\"\\'m\", \" am\", phrase)\n",
    "    return phrase"
   ]
  },
  {
   "cell_type": "code",
   "execution_count": 163,
   "metadata": {
    "colab": {},
    "colab_type": "code",
    "id": "DcSgYMV8aJcs",
    "outputId": "d0d9e54a-ac6b-42d1-da0a-a553b34c302a"
   },
   "outputs": [
    {
     "name": "stdout",
     "output_type": "stream",
     "text": [
      "Our third graders love to explore the world around them and to research topics that have stimulated their curiosity.  In our classroom, we create opportunities for problem based learning to give students more ownership of their learning experience.  \\r\\nEducation is more than what is contained in the classroom.  Our eager and capable students need to be able to reach beyond our classroom resources for information.  Kids love technology and our students would be excited to jump into their research and discover more and more about their topics.  Third graders love to learn and we need to give them wonderful opportunities to do just that.Chromebooks would go right to work in our classroom. In third grade students research the solar system, weather, animal adaptations, and more. With Chromebooks, they could research, set up a google doc to collaborate, and share their results with classmates. \\r\\nWe would have many uses for Chromebooks.\\r\\nBesides using them for science and informational research, they could be used for math problem solving, writers workshop, reading, and word study. \\r\\nLearning comes naturally when students are excited and engaged. With Chromebooks, the students would be able to explore topics and collaborate on their learning. Our third graders would benefit tremendously from having Chromebooks in the classroom.\\r\\nnannan\n",
      "==================================================\n"
     ]
    }
   ],
   "source": [
    "sent = decontracted(project_data['essay'].values[200])\n",
    "print(sent)\n",
    "print(\"=\"*50)"
   ]
  },
  {
   "cell_type": "code",
   "execution_count": 164,
   "metadata": {
    "colab": {},
    "colab_type": "code",
    "id": "BoT-12-NaJcu",
    "outputId": "345f801d-1388-40ea-9cb6-a71d304a06b3"
   },
   "outputs": [
    {
     "name": "stdout",
     "output_type": "stream",
     "text": [
      "Our third graders love to explore the world around them and to research topics that have stimulated their curiosity.  In our classroom, we create opportunities for problem based learning to give students more ownership of their learning experience.    Education is more than what is contained in the classroom.  Our eager and capable students need to be able to reach beyond our classroom resources for information.  Kids love technology and our students would be excited to jump into their research and discover more and more about their topics.  Third graders love to learn and we need to give them wonderful opportunities to do just that.Chromebooks would go right to work in our classroom. In third grade students research the solar system, weather, animal adaptations, and more. With Chromebooks, they could research, set up a google doc to collaborate, and share their results with classmates.   We would have many uses for Chromebooks.  Besides using them for science and informational research, they could be used for math problem solving, writers workshop, reading, and word study.   Learning comes naturally when students are excited and engaged. With Chromebooks, the students would be able to explore topics and collaborate on their learning. Our third graders would benefit tremendously from having Chromebooks in the classroom.  nannan\n"
     ]
    }
   ],
   "source": [
    "# \\r \\n \\t remove from string python: http://texthandler.com/info/remove-line-breaks-python/\n",
    "sent = sent.replace('\\\\r', ' ')\n",
    "sent = sent.replace('\\\\\"', ' ')\n",
    "sent = sent.replace('\\\\n', ' ')\n",
    "print(sent)"
   ]
  },
  {
   "cell_type": "code",
   "execution_count": 165,
   "metadata": {
    "colab": {},
    "colab_type": "code",
    "id": "vJcI9pqNaJcw",
    "outputId": "c9515095-74a7-4cf8-c85d-7bdd39603d36"
   },
   "outputs": [
    {
     "name": "stdout",
     "output_type": "stream",
     "text": [
      "Our third graders love to explore the world around them and to research topics that have stimulated their curiosity In our classroom we create opportunities for problem based learning to give students more ownership of their learning experience Education is more than what is contained in the classroom Our eager and capable students need to be able to reach beyond our classroom resources for information Kids love technology and our students would be excited to jump into their research and discover more and more about their topics Third graders love to learn and we need to give them wonderful opportunities to do just that Chromebooks would go right to work in our classroom In third grade students research the solar system weather animal adaptations and more With Chromebooks they could research set up a google doc to collaborate and share their results with classmates We would have many uses for Chromebooks Besides using them for science and informational research they could be used for math problem solving writers workshop reading and word study Learning comes naturally when students are excited and engaged With Chromebooks the students would be able to explore topics and collaborate on their learning Our third graders would benefit tremendously from having Chromebooks in the classroom nannan\n"
     ]
    }
   ],
   "source": [
    "#remove spacial character: https://stackoverflow.com/a/5843547/4084039\n",
    "sent = re.sub('[^A-Za-z0-9]+', ' ', sent)\n",
    "print(sent)"
   ]
  },
  {
   "cell_type": "code",
   "execution_count": 166,
   "metadata": {
    "colab": {},
    "colab_type": "code",
    "id": "tP3q8p2-aJcy"
   },
   "outputs": [],
   "source": [
    "# https://gist.github.com/sebleier/554280\n",
    "# we are removing the words from the stop words list: 'no', 'nor', 'not'\n",
    "stopwords= ['i', 'me', 'my', 'myself', 'we', 'our', 'ours', 'ourselves', 'you', \"you're\", \"you've\",\\\n",
    "            \"you'll\", \"you'd\", 'your', 'yours', 'yourself', 'yourselves', 'he', 'him', 'his', 'himself', \\\n",
    "            'she', \"she's\", 'her', 'hers', 'herself', 'it', \"it's\", 'its', 'itself', 'they', 'them', 'their',\\\n",
    "            'theirs', 'themselves', 'what', 'which', 'who', 'whom', 'this', 'that', \"that'll\", 'these', 'those', \\\n",
    "            'am', 'is', 'are', 'was', 'were', 'be', 'been', 'being', 'have', 'has', 'had', 'having', 'do', 'does', \\\n",
    "            'did', 'doing', 'a', 'an', 'the', 'and', 'but', 'if', 'or', 'because', 'as', 'until', 'while', 'of', \\\n",
    "            'at', 'by', 'for', 'with', 'about', 'against', 'between', 'into', 'through', 'during', 'before', 'after',\\\n",
    "            'above', 'below', 'to', 'from', 'up', 'down', 'in', 'out', 'on', 'off', 'over', 'under', 'again', 'further',\\\n",
    "            'then', 'once', 'here', 'there', 'when', 'where', 'why', 'how', 'all', 'any', 'both', 'each', 'few', 'more',\\\n",
    "            'most', 'other', 'some', 'such', 'only', 'own', 'same', 'so', 'than', 'too', 'very', \\\n",
    "            's', 't', 'can', 'will', 'just', 'don', \"don't\", 'should', \"should've\", 'now', 'd', 'll', 'm', 'o', 're', \\\n",
    "            've', 'y', 'ain', 'aren', \"aren't\", 'couldn', \"couldn't\", 'didn', \"didn't\", 'doesn', \"doesn't\", 'hadn',\\\n",
    "            \"hadn't\", 'hasn', \"hasn't\", 'haven', \"haven't\", 'isn', \"isn't\", 'ma', 'mightn', \"mightn't\", 'mustn',\\\n",
    "            \"mustn't\", 'needn', \"needn't\", 'shan', \"shan't\", 'shouldn', \"shouldn't\", 'wasn', \"wasn't\", 'weren', \"weren't\", \\\n",
    "            'won', \"won't\", 'wouldn', \"wouldn't\"]"
   ]
  },
  {
   "cell_type": "code",
   "execution_count": 167,
   "metadata": {
    "colab": {},
    "colab_type": "code",
    "id": "e4DWc0JaaJcz",
    "outputId": "30ef6882-02e6-484b-a8b8-075cc4f55a17"
   },
   "outputs": [],
   "source": [
    "\n",
    "def Text_cleaner(data):\n",
    "    # Combining all the above statemennts \n",
    "    from tqdm import tqdm\n",
    "    preprocessed_essays = []\n",
    "    # tqdm is for printing the status bar\n",
    "    for sentance in tqdm(data.values):\n",
    "        sent = decontracted(sentance)\n",
    "        sent = sent.replace('\\\\r', ' ')\n",
    "        sent = sent.replace('\\\\\"', ' ')\n",
    "        sent = sent.replace('\\\\n', ' ')\n",
    "        sent = re.sub('[^A-Za-z0-9]+', ' ', sent)\n",
    "        # https://gist.github.com/sebleier/554280\n",
    "        sent = ' '.join(e for e in sent.split() if e not in stopwords)\n",
    "        preprocessed_essays.append(sent.lower().strip())\n",
    "    return preprocessed_essays"
   ]
  },
  {
   "cell_type": "code",
   "execution_count": 168,
   "metadata": {
    "colab": {},
    "colab_type": "code",
    "id": "DIgHChlYaJc1",
    "outputId": "53741928-9519-480b-b532-6888f93d8b6e"
   },
   "outputs": [
    {
     "name": "stderr",
     "output_type": "stream",
     "text": [
      "100%|████████████████████████████████████████████████████████████████████████████| 5000/5000 [00:04<00:00, 1125.84it/s]\n"
     ]
    },
    {
     "data": {
      "text/plain": [
       "'our students come variety different economic backgrounds 90 percent students receiving free lunch the majority students considered high poverty many students come broken homes even living another family member we also diverse groups ethnicity immigrants within classroom setting as twenty first century school many students cannot afford bring devices school assignments digitally i want ensure students afforded opportunity creative meaningful learning experiences grow intellectually socially in order i must make sure twenty students within classroom equal access computers order expand education become competent digital learners my students diverse learning styles verbal kinesthetic struggle voice thinking clear concise manner students learning use office 365 create power points google docs word documents online students able synergize create digital projects based research conducted these projects often cross curriculum based definitely enhance learning students to able create using digital software motivates students perform best it intention students receive equitable access computers time not wasted digital projects due lack computers students also use software practice fluency skills reading math clarify concepts science social studies students access complete assignments reading block strengthens reading concepts across curriculum nannan'"
      ]
     },
     "execution_count": 168,
     "metadata": {},
     "output_type": "execute_result"
    }
   ],
   "source": [
    "# after preprocesing\n",
    "preprocessed_essays=Text_cleaner(project_data['essay'])\n",
    "preprocessed_essays[1]"
   ]
  },
  {
   "cell_type": "markdown",
   "metadata": {
    "colab_type": "text",
    "id": "oTPIxdGmaJc3"
   },
   "source": [
    "<h3><font color='red'>1.3.2 Project title Text</font></h3>"
   ]
  },
  {
   "cell_type": "code",
   "execution_count": 169,
   "metadata": {
    "colab": {},
    "colab_type": "code",
    "id": "hxmvXLZBaJc4"
   },
   "outputs": [
    {
     "name": "stdout",
     "output_type": "stream",
     "text": [
      "['The More Words the Merrier' 'Students:  Motivated Through Technology'\n",
      " 'Kahoots for Chromebooks!' ... 'Light The Spark Through Color'\n",
      " 'Learning is beyond a textbook.  Technology can open minds!'\n",
      " \"Oh The Places We'll Go (& Grow) Listening To Books!\"]\n"
     ]
    }
   ],
   "source": [
    "# printing some random essays.\n",
    "print(project_data['project_title'].values)"
   ]
  },
  {
   "cell_type": "code",
   "execution_count": 170,
   "metadata": {},
   "outputs": [
    {
     "name": "stderr",
     "output_type": "stream",
     "text": [
      "100%|███████████████████████████████████████████████████████████████████████████| 5000/5000 [00:00<00:00, 39894.46it/s]\n"
     ]
    }
   ],
   "source": [
    "cleaned_Proj_title=Text_cleaner(project_data['project_title'])"
   ]
  },
  {
   "cell_type": "code",
   "execution_count": 171,
   "metadata": {},
   "outputs": [
    {
     "data": {
      "text/plain": [
       "'wobble chairs target learning'"
      ]
     },
     "execution_count": 171,
     "metadata": {},
     "output_type": "execute_result"
    }
   ],
   "source": [
    "cleaned_Proj_title[10]"
   ]
  },
  {
   "cell_type": "markdown",
   "metadata": {
    "colab_type": "text",
    "id": "rnUgDUBgaJc5"
   },
   "source": [
    "## 1. 4 Preparing data for models"
   ]
  },
  {
   "cell_type": "code",
   "execution_count": 172,
   "metadata": {
    "colab": {},
    "colab_type": "code",
    "id": "1cPPdEGgaJc5",
    "outputId": "00754d69-10ed-4f94-93a4-40b194904a7a"
   },
   "outputs": [
    {
     "data": {
      "text/plain": [
       "Index(['Unnamed: 0', 'id', 'teacher_id', 'teacher_prefix', 'school_state',\n",
       "       'project_submitted_datetime', 'project_grade_category', 'project_title',\n",
       "       'project_essay_1', 'project_essay_2', 'project_essay_3',\n",
       "       'project_essay_4', 'project_resource_summary',\n",
       "       'teacher_number_of_previously_posted_projects', 'project_is_approved',\n",
       "       'clean_categories', 'clean_subcategories', 'essay', 'price', 'quantity',\n",
       "       'Numeric_presence_summary'],\n",
       "      dtype='object')"
      ]
     },
     "execution_count": 172,
     "metadata": {},
     "output_type": "execute_result"
    }
   ],
   "source": [
    "project_data.columns"
   ]
  },
  {
   "cell_type": "markdown",
   "metadata": {
    "colab_type": "text",
    "id": "JoBT77NbaJc8"
   },
   "source": [
    "we are going to consider\n",
    "\n",
    "       - school_state : categorical data\n",
    "       - clean_categories : categorical data\n",
    "       - clean_subcategories : categorical data\n",
    "       - project_grade_category : categorical data\n",
    "       - teacher_prefix : categorical data\n",
    "       \n",
    "       - project_title : text data\n",
    "       - text : text data\n",
    "       - project_resource_summary: text data\n",
    "       \n",
    "       - quantity : numerical\n",
    "       - teacher_number_of_previously_posted_projects : numerical\n",
    "       - price : numerical"
   ]
  },
  {
   "cell_type": "markdown",
   "metadata": {
    "colab_type": "text",
    "id": "3KP4HQ2xaJc8"
   },
   "source": [
    "### 1.4.1 Vectorizing Categorical data"
   ]
  },
  {
   "cell_type": "markdown",
   "metadata": {
    "colab_type": "text",
    "id": "AgPp34I2aJc9"
   },
   "source": [
    "- https://www.appliedaicourse.com/course/applied-ai-course-online/lessons/handling-categorical-and-numerical-features/"
   ]
  },
  {
   "cell_type": "code",
   "execution_count": 173,
   "metadata": {
    "colab": {},
    "colab_type": "code",
    "id": "_xV1s9v-aJc9",
    "outputId": "cd0141e1-8ea2-484b-d74d-330fb4c6e0bd"
   },
   "outputs": [
    {
     "name": "stdout",
     "output_type": "stream",
     "text": [
      "['Warmth', 'Care_Hunger', 'History_Civics', 'Music_Arts', 'AppliedLearning', 'SpecialNeeds', 'Health_Sports', 'Math_Science', 'Literacy_Language']\n",
      "Shape of matrix after one hot encodig  (5000, 9)\n"
     ]
    }
   ],
   "source": [
    "# we use count vectorizer to convert the values into one hot encoded features\n",
    "from sklearn.feature_extraction.text import CountVectorizer\n",
    "vectorizer = CountVectorizer(vocabulary=list(sorted_cat_dict.keys()), lowercase=False, binary=True)\n",
    "vectorizer.fit(project_data['clean_categories'].values)\n",
    "print(vectorizer.get_feature_names())\n",
    "\n",
    "\n",
    "categories_one_hot = vectorizer.transform(project_data['clean_categories'].values)\n",
    "print(\"Shape of matrix after one hot encodig \",categories_one_hot.shape)"
   ]
  },
  {
   "cell_type": "code",
   "execution_count": 174,
   "metadata": {
    "colab": {},
    "colab_type": "code",
    "id": "A-p1rDDvaJdA",
    "outputId": "f3216073-6b0c-4899-978f-d26fd1b1a667"
   },
   "outputs": [
    {
     "name": "stdout",
     "output_type": "stream",
     "text": [
      "['Economics', 'CommunityService', 'ParentInvolvement', 'FinancialLiteracy', 'Extracurricular', 'Civics_Government', 'ForeignLanguages', 'Warmth', 'Care_Hunger', 'NutritionEducation', 'PerformingArts', 'CharacterEducation', 'SocialSciences', 'TeamSports', 'Other', 'College_CareerPrep', 'Music', 'History_Geography', 'Health_LifeScience', 'ESL', 'Gym_Fitness', 'EarlyDevelopment', 'EnvironmentalScience', 'VisualArts', 'Health_Wellness', 'AppliedSciences', 'SpecialNeeds', 'Literature_Writing', 'Mathematics', 'Literacy']\n",
      "Shape of matrix after one hot encodig  (5000, 30)\n"
     ]
    }
   ],
   "source": [
    "# we use count vectorizer to convert the values into one hot encoded features\n",
    "vectorizer = CountVectorizer(vocabulary=list(sorted_sub_cat_dict.keys()), lowercase=False, binary=True)\n",
    "vectorizer.fit(project_data['clean_subcategories'].values)\n",
    "print(vectorizer.get_feature_names())\n",
    "\n",
    "\n",
    "sub_categories_one_hot = vectorizer.transform(project_data['clean_subcategories'].values)\n",
    "print(\"Shape of matrix after one hot encodig \",sub_categories_one_hot.shape)"
   ]
  },
  {
   "cell_type": "code",
   "execution_count": 175,
   "metadata": {
    "colab": {},
    "colab_type": "code",
    "id": "OytF4Nt0aJdC"
   },
   "outputs": [
    {
     "name": "stdout",
     "output_type": "stream",
     "text": [
      "[ 6  1 18 ... 23  3 40]\n",
      "(5000, 51)\n"
     ]
    },
    {
     "data": {
      "text/plain": [
       "array([['CT', 'AL', 'LA', ..., 'MN', 'AZ', 'SC']], dtype=object)"
      ]
     },
     "execution_count": 175,
     "metadata": {},
     "output_type": "execute_result"
    }
   ],
   "source": [
    "#https://machinelearningmastery.com/how-to-one-hot-encode-sequence-data-in-python/\n",
    "\n",
    "# Please do the similar feature encoding with school_state,\n",
    "from sklearn.preprocessing import LabelEncoder\n",
    "from sklearn.preprocessing import OneHotEncoder\n",
    "\n",
    "#integer encode\n",
    "label_encoder_skl_state=LabelEncoder()\n",
    "integer_encoded_skl_state=label_encoder_skl_state.fit_transform(project_data['school_state'])\n",
    "print(integer_encoded_skl_state)\n",
    "\n",
    "#Binary encode\n",
    "onehot_encoder_skl_state=OneHotEncoder(sparse=False)\n",
    "integer_encoded_skl_state=integer_encoded_skl_state.reshape(len(integer_encoded_skl_state), 1)\n",
    "onehot_encoded_skl_state = onehot_encoder_skl_state.fit_transform(integer_encoded_skl_state)\n",
    "print(onehot_encoded_skl_state.shape)\n",
    "\n",
    "project_data['school_state'].unique().size\n",
    "\n",
    "label_encoder_skl_state.inverse_transform(integer_encoded_skl_state.T)\n"
   ]
  },
  {
   "cell_type": "code",
   "execution_count": 176,
   "metadata": {},
   "outputs": [
    {
     "name": "stdout",
     "output_type": "stream",
     "text": [
      "[2 1 1 ... 1 1 1]\n",
      "(5000, 4)\n"
     ]
    },
    {
     "data": {
      "text/plain": [
       "4"
      ]
     },
     "execution_count": 176,
     "metadata": {},
     "output_type": "execute_result"
    }
   ],
   "source": [
    "#https://machinelearningmastery.com/how-to-one-hot-encode-sequence-data-in-python/\n",
    "#teacher_prefix\n",
    "\n",
    "project_data['teacher_prefix'].fillna('Others',inplace=True)\n",
    "#integer encode\n",
    "label_encoder_tchr_prefix=LabelEncoder()\n",
    "integer_encoded_tchr_prefix=label_encoder_tchr_prefix.fit_transform(project_data['teacher_prefix'])\n",
    "print(integer_encoded_tchr_prefix)\n",
    "\n",
    "#Binary encode\n",
    "onehot_encoder_tchr_prefix=OneHotEncoder(sparse=False)\n",
    "integer_encoded_tchr_prefix=integer_encoded_tchr_prefix.reshape(len(integer_encoded_tchr_prefix), 1)\n",
    "onehot_encoded_tchr_prefix = onehot_encoder_tchr_prefix.fit_transform(integer_encoded_tchr_prefix)\n",
    "print(onehot_encoded_tchr_prefix.shape)\n",
    "\n",
    "project_data['teacher_prefix'].unique().size"
   ]
  },
  {
   "cell_type": "code",
   "execution_count": 177,
   "metadata": {},
   "outputs": [
    {
     "name": "stdout",
     "output_type": "stream",
     "text": [
      "[0 0 0 ... 3 0 3]\n",
      "(5000, 4)\n"
     ]
    },
    {
     "data": {
      "text/plain": [
       "4"
      ]
     },
     "execution_count": 177,
     "metadata": {},
     "output_type": "execute_result"
    }
   ],
   "source": [
    "#https://machinelearningmastery.com/how-to-one-hot-encode-sequence-data-in-python/\n",
    "\n",
    "#project_grade_category \n",
    "\n",
    "\n",
    "#integer encode\n",
    "label_encoder_proj_grade_cat=LabelEncoder()\n",
    "integer_encoded_proj_grade_cat=label_encoder_proj_grade_cat.fit_transform(project_data['project_grade_category'])\n",
    "print(integer_encoded_proj_grade_cat)\n",
    "\n",
    "#Binary encode\n",
    "onehot_encoder_proj_grade_cat=OneHotEncoder(sparse=False)\n",
    "integer_encoded_proj_grade_cat=integer_encoded_proj_grade_cat.reshape(len(integer_encoded_proj_grade_cat), 1)\n",
    "onehot_encoded_proj_grade_cat = onehot_encoder_proj_grade_cat.fit_transform(integer_encoded_proj_grade_cat)\n",
    "print(onehot_encoded_proj_grade_cat.shape)\n",
    "\n",
    "project_data['project_grade_category'].unique().size"
   ]
  },
  {
   "cell_type": "code",
   "execution_count": 215,
   "metadata": {},
   "outputs": [
    {
     "name": "stdout",
     "output_type": "stream",
     "text": [
      "[ 6  1 18 ... 23  3 40]\n",
      "(5000, 51)\n"
     ]
    },
    {
     "data": {
      "text/plain": [
       "51"
      ]
     },
     "execution_count": 215,
     "metadata": {},
     "output_type": "execute_result"
    }
   ],
   "source": [
    "#https://machinelearningmastery.com/how-to-one-hot-encode-sequence-data-in-python/\n",
    "\n",
    "#school_state\n",
    "\n",
    "\n",
    "#integer encode\n",
    "label_encoder_school_state=LabelEncoder()\n",
    "integer_encoded_school_state=label_encoder_school_state.fit_transform(project_data['school_state'])\n",
    "print(integer_encoded_school_state)\n",
    "\n",
    "#Binary encode\n",
    "onehot_encoder_school_state=OneHotEncoder(sparse=False)\n",
    "integer_encoded_school_state=integer_encoded_school_state.reshape(len(integer_encoded_school_state), 1)\n",
    "onehot_encoded_school_state = onehot_encoder_school_state.fit_transform(integer_encoded_school_state)\n",
    "print(onehot_encoded_school_state.shape)\n",
    "\n",
    "project_data['school_state'].unique().size"
   ]
  },
  {
   "cell_type": "markdown",
   "metadata": {
    "colab_type": "text",
    "id": "umi63xCcaJdD"
   },
   "source": [
    "### 1.4.2 Vectorizing Text data"
   ]
  },
  {
   "cell_type": "markdown",
   "metadata": {
    "colab_type": "text",
    "id": "oMHWIrroaJdE"
   },
   "source": [
    "#### 1.4.2.1 Bag of words"
   ]
  },
  {
   "cell_type": "code",
   "execution_count": 178,
   "metadata": {
    "colab": {},
    "colab_type": "code",
    "id": "Lrds1eDgaJdE",
    "outputId": "2671fd7e-4911-49b7-cb62-cd64431929f3"
   },
   "outputs": [
    {
     "name": "stdout",
     "output_type": "stream",
     "text": [
      "Shape of matrix after one hot encodig  (5000, 4347)\n"
     ]
    }
   ],
   "source": [
    "# We are considering only the words which appeared in at least 10 documents(rows or projects).\n",
    "vectorizer = CountVectorizer(min_df=10)\n",
    "text_bow_essay = vectorizer.fit_transform(preprocessed_essays)\n",
    "print(\"Shape of matrix after one hot encodig \",text_bow_essay.shape)"
   ]
  },
  {
   "cell_type": "markdown",
   "metadata": {
    "colab_type": "text",
    "id": "G_QLDn9eaJdG"
   },
   "source": [
    "<h4><font color='red'> 1.4.2.2 Bag of Words on `project_title`</font></h4>"
   ]
  },
  {
   "cell_type": "code",
   "execution_count": 179,
   "metadata": {
    "colab": {},
    "colab_type": "code",
    "id": "h0-OVajdaJdH"
   },
   "outputs": [
    {
     "name": "stdout",
     "output_type": "stream",
     "text": [
      "Shape of matrix after one hot encodig  (5000, 708)\n"
     ]
    }
   ],
   "source": [
    "# you can vectorize the title also \n",
    "# before you vectorize the title make sure you preprocess it\n",
    "vectorizer = CountVectorizer(min_df=5)\n",
    "text_bow_proj_title = vectorizer.fit_transform(cleaned_Proj_title)\n",
    "print(\"Shape of matrix after one hot encodig \",text_bow_proj_title.shape)\n"
   ]
  },
  {
   "cell_type": "markdown",
   "metadata": {
    "colab_type": "text",
    "id": "sKXhBeHZaJdK"
   },
   "source": [
    "#### 1.4.2.3 TFIDF vectorizer"
   ]
  },
  {
   "cell_type": "code",
   "execution_count": 180,
   "metadata": {
    "colab": {},
    "colab_type": "code",
    "id": "U34wJAiraJdK",
    "outputId": "f4d28c43-6a3e-45ba-8995-92d582e2f619"
   },
   "outputs": [
    {
     "name": "stdout",
     "output_type": "stream",
     "text": [
      "Shape of matrix after one hot encodig  (5000, 4347)\n"
     ]
    }
   ],
   "source": [
    "from sklearn.feature_extraction.text import TfidfVectorizer\n",
    "vectorizer = TfidfVectorizer(min_df=10)\n",
    "text_tfidf_essay = vectorizer.fit_transform(preprocessed_essays)\n",
    "print(\"Shape of matrix after one hot encodig \",text_tfidf_essay.shape)"
   ]
  },
  {
   "cell_type": "markdown",
   "metadata": {
    "colab_type": "text",
    "id": "K0uZKKmKaJdN"
   },
   "source": [
    "<h4><font color='red'> 1.4.2.4 TFIDF Vectorizer on `project_title`</font></h4>"
   ]
  },
  {
   "cell_type": "code",
   "execution_count": 181,
   "metadata": {
    "colab": {},
    "colab_type": "code",
    "id": "fh8eivOeaJdN"
   },
   "outputs": [
    {
     "name": "stdout",
     "output_type": "stream",
     "text": [
      "Shape of matrix after one hot encodig  (5000, 708)\n"
     ]
    }
   ],
   "source": [
    "# Similarly you can vectorize for title alsovectorizer = TfidfVectorizer(min_df=10)\n",
    "vectorizer = TfidfVectorizer(min_df=5)\n",
    "text_tfidf_proj_title = vectorizer.fit_transform(cleaned_Proj_title)\n",
    "print(\"Shape of matrix after one hot encodig \",text_tfidf_proj_title.shape)"
   ]
  },
  {
   "cell_type": "markdown",
   "metadata": {
    "colab_type": "text",
    "id": "RDYCGTBvaJdP"
   },
   "source": [
    "#### 1.4.2.5 Using Pretrained Models: Avg W2V"
   ]
  },
  {
   "cell_type": "code",
   "execution_count": 182,
   "metadata": {
    "colab": {},
    "colab_type": "code",
    "id": "DxieeVk3aJdP",
    "outputId": "8b621d77-8057-4b12-f902-b909332f5f82"
   },
   "outputs": [
    {
     "data": {
      "text/plain": [
       "'\\n# Reading glove vectors in python: https://stackoverflow.com/a/38230349/4084039\\ndef loadGloveModel(gloveFile):\\n    print (\"Loading Glove Model\")\\n    f = open(gloveFile,\\'r\\', encoding=\"utf8\")\\n    model = {}\\n    for line in tqdm(f):\\n        splitLine = line.split()\\n        word = splitLine[0]\\n        embedding = np.array([float(val) for val in splitLine[1:]])\\n        model[word] = embedding\\n    print (\"Done.\",len(model),\" words loaded!\")\\n    return model\\nmodel = loadGloveModel(\\'glove.42B.300d.txt\\')\\n\\n# ============================\\nOutput:\\n    \\nLoading Glove Model\\n1917495it [06:32, 4879.69it/s]\\nDone. 1917495  words loaded!\\n\\n# ============================\\n\\nwords = []\\nfor i in preproced_texts:\\n    words.extend(i.split(\\' \\'))\\n\\nfor i in preproced_titles:\\n    words.extend(i.split(\\' \\'))\\nprint(\"all the words in the coupus\", len(words))\\nwords = set(words)\\nprint(\"the unique words in the coupus\", len(words))\\n\\ninter_words = set(model.keys()).intersection(words)\\nprint(\"The number of words that are present in both glove vectors and our coupus\",       len(inter_words),\"(\",np.round(len(inter_words)/len(words)*100,3),\"%)\")\\n\\nwords_courpus = {}\\nwords_glove = set(model.keys())\\nfor i in words:\\n    if i in words_glove:\\n        words_courpus[i] = model[i]\\nprint(\"word 2 vec length\", len(words_courpus))\\n\\n\\n# stronging variables into pickle files python: http://www.jessicayung.com/how-to-use-pickle-to-save-and-load-variables-in-python/\\n\\nimport pickle\\nwith open(\\'glove_vectors\\', \\'wb\\') as f:\\n    pickle.dump(words_courpus, f)\\n\\n\\n'"
      ]
     },
     "execution_count": 182,
     "metadata": {},
     "output_type": "execute_result"
    }
   ],
   "source": [
    "'''\n",
    "# Reading glove vectors in python: https://stackoverflow.com/a/38230349/4084039\n",
    "def loadGloveModel(gloveFile):\n",
    "    print (\"Loading Glove Model\")\n",
    "    f = open(gloveFile,'r', encoding=\"utf8\")\n",
    "    model = {}\n",
    "    for line in tqdm(f):\n",
    "        splitLine = line.split()\n",
    "        word = splitLine[0]\n",
    "        embedding = np.array([float(val) for val in splitLine[1:]])\n",
    "        model[word] = embedding\n",
    "    print (\"Done.\",len(model),\" words loaded!\")\n",
    "    return model\n",
    "model = loadGloveModel('glove.42B.300d.txt')\n",
    "\n",
    "# ============================\n",
    "Output:\n",
    "    \n",
    "Loading Glove Model\n",
    "1917495it [06:32, 4879.69it/s]\n",
    "Done. 1917495  words loaded!\n",
    "\n",
    "# ============================\n",
    "\n",
    "words = []\n",
    "for i in preproced_texts:\n",
    "    words.extend(i.split(' '))\n",
    "\n",
    "for i in preproced_titles:\n",
    "    words.extend(i.split(' '))\n",
    "print(\"all the words in the coupus\", len(words))\n",
    "words = set(words)\n",
    "print(\"the unique words in the coupus\", len(words))\n",
    "\n",
    "inter_words = set(model.keys()).intersection(words)\n",
    "print(\"The number of words that are present in both glove vectors and our coupus\", \\\n",
    "      len(inter_words),\"(\",np.round(len(inter_words)/len(words)*100,3),\"%)\")\n",
    "\n",
    "words_courpus = {}\n",
    "words_glove = set(model.keys())\n",
    "for i in words:\n",
    "    if i in words_glove:\n",
    "        words_courpus[i] = model[i]\n",
    "print(\"word 2 vec length\", len(words_courpus))\n",
    "\n",
    "\n",
    "# stronging variables into pickle files python: http://www.jessicayung.com/how-to-use-pickle-to-save-and-load-variables-in-python/\n",
    "\n",
    "import pickle\n",
    "with open('glove_vectors', 'wb') as f:\n",
    "    pickle.dump(words_courpus, f)\n",
    "\n",
    "\n",
    "'''"
   ]
  },
  {
   "cell_type": "code",
   "execution_count": 183,
   "metadata": {
    "colab": {},
    "colab_type": "code",
    "id": "IPpaw4SAaJdR"
   },
   "outputs": [],
   "source": [
    "# stronging variables into pickle files python: http://www.jessicayung.com/how-to-use-pickle-to-save-and-load-variables-in-python/\n",
    "# make sure you have the glove_vectors file\n",
    "with open('glove_vectors', 'rb') as f:\n",
    "    model = pickle.load(f)\n",
    "    glove_words =  set(model.keys())"
   ]
  },
  {
   "cell_type": "code",
   "execution_count": 184,
   "metadata": {
    "colab": {},
    "colab_type": "code",
    "id": "1vQDQ-h-aJdS",
    "outputId": "892847f6-5ea8-46e2-a768-90df4258dbd5",
    "scrolled": true
   },
   "outputs": [
    {
     "name": "stderr",
     "output_type": "stream",
     "text": [
      "100%|████████████████████████████████████████████████████████████████████████████| 5000/5000 [00:02<00:00, 1786.58it/s]\n"
     ]
    },
    {
     "name": "stdout",
     "output_type": "stream",
     "text": [
      "5000\n",
      "300\n"
     ]
    }
   ],
   "source": [
    "# average Word2Vec\n",
    "# compute average word2vec for each review.\n",
    "avg_w2v_vectors_essay = []; # the avg-w2v for each sentence/review is stored in this list\n",
    "for sentence in tqdm(preprocessed_essays): # for each review/sentence\n",
    "    vector = np.zeros(300) # as word vectors are of zero length\n",
    "    cnt_words =0; # num of words with a valid vector in the sentence/review\n",
    "    for word in sentence.split(): # for each word in a review/sentence\n",
    "        if word in glove_words:\n",
    "            vector += model[word]\n",
    "            cnt_words += 1\n",
    "    if cnt_words != 0:\n",
    "        vector /= cnt_words\n",
    "    avg_w2v_vectors_essay.append(vector)\n",
    "\n",
    "print(len(avg_w2v_vectors_essay))\n",
    "print(len(avg_w2v_vectors_essay[0]))"
   ]
  },
  {
   "cell_type": "markdown",
   "metadata": {
    "colab_type": "text",
    "id": "NJvhZFzRaJdU"
   },
   "source": [
    "<h4><font color='red'> 1.4.2.6 Using Pretrained Models: AVG W2V on `project_title`</font></h4>"
   ]
  },
  {
   "cell_type": "code",
   "execution_count": 185,
   "metadata": {
    "colab": {},
    "colab_type": "code",
    "id": "zH59XedPaJdU"
   },
   "outputs": [
    {
     "name": "stderr",
     "output_type": "stream",
     "text": [
      "100%|███████████████████████████████████████████████████████████████████████████| 5000/5000 [00:00<00:00, 59665.31it/s]\n"
     ]
    },
    {
     "name": "stdout",
     "output_type": "stream",
     "text": [
      "5000\n",
      "300\n"
     ]
    }
   ],
   "source": [
    "# Similarly you can vectorize for title also\n",
    "# average Word2Vec\n",
    "# compute average word2vec for each review.\n",
    "avg_w2v_vectors_proj_title = []; # the avg-w2v for each sentence/review is stored in this list\n",
    "for sentence in tqdm(cleaned_Proj_title): # for each review/sentence\n",
    "    vector = np.zeros(300) # as word vectors are of zero length\n",
    "    cnt_words =0; # num of words with a valid vector in the sentence/review\n",
    "    for word in sentence.split(): # for each word in a review/sentence\n",
    "        if word in glove_words:\n",
    "            vector += model[word]\n",
    "            cnt_words += 1\n",
    "    if cnt_words != 0:\n",
    "        vector /= cnt_words\n",
    "    avg_w2v_vectors_proj_title.append(vector)\n",
    "\n",
    "print(len(avg_w2v_vectors_proj_title))\n",
    "print(len(avg_w2v_vectors_proj_title[0]))"
   ]
  },
  {
   "cell_type": "markdown",
   "metadata": {
    "colab_type": "text",
    "id": "yJWbIFXKaJdW"
   },
   "source": [
    "#### 1.4.2.7 Using Pretrained Models: TFIDF weighted W2V"
   ]
  },
  {
   "cell_type": "code",
   "execution_count": 186,
   "metadata": {
    "colab": {},
    "colab_type": "code",
    "id": "GAvpkNKaaJdX"
   },
   "outputs": [],
   "source": [
    "# S = [\"abc def pqr\", \"def def def abc\", \"pqr pqr def\"]\n",
    "tfidf_model = TfidfVectorizer()\n",
    "tfidf_model.fit(preprocessed_essays)\n",
    "# we are converting a dictionary with word as a key, and the idf as a value\n",
    "dictionary = dict(zip(tfidf_model.get_feature_names(), list(tfidf_model.idf_)))\n",
    "tfidf_words_essay = set(tfidf_model.get_feature_names())"
   ]
  },
  {
   "cell_type": "code",
   "execution_count": 187,
   "metadata": {
    "colab": {},
    "colab_type": "code",
    "id": "cLjnV0SkaJdY",
    "outputId": "8e5fc468-4da6-445f-a94d-8e9cfe6e590a",
    "scrolled": true
   },
   "outputs": [
    {
     "name": "stderr",
     "output_type": "stream",
     "text": [
      "100%|█████████████████████████████████████████████████████████████████████████████| 5000/5000 [00:20<00:00, 246.96it/s]\n"
     ]
    },
    {
     "name": "stdout",
     "output_type": "stream",
     "text": [
      "5000\n",
      "300\n"
     ]
    }
   ],
   "source": [
    "# average Word2Vec\n",
    "# compute average word2vec for each review.\n",
    "tfidf_w2v_vectors_essay = []; # the avg-w2v for each sentence/review is stored in this list\n",
    "for sentence in tqdm(preprocessed_essays): # for each review/sentence\n",
    "    vector = np.zeros(300) # as word vectors are of zero length\n",
    "    tf_idf_weight =0; # num of words with a valid vector in the sentence/review\n",
    "    for word in sentence.split(): # for each word in a review/sentence\n",
    "        if (word in glove_words) and (word in tfidf_words_essay):\n",
    "            vec = model[word] # getting the vector for each word\n",
    "            # here we are multiplying idf value(dictionary[word]) and the tf value((sentence.count(word)/len(sentence.split())))\n",
    "            tf_idf = dictionary[word]*(sentence.count(word)/len(sentence.split())) # getting the tfidf value for each word\n",
    "            vector += (vec * tf_idf) # calculating tfidf weighted w2v\n",
    "            tf_idf_weight += tf_idf\n",
    "    if tf_idf_weight != 0:\n",
    "        vector /= tf_idf_weight\n",
    "    tfidf_w2v_vectors_essay.append(vector)\n",
    "\n",
    "print(len(tfidf_w2v_vectors_essay))\n",
    "print(len(tfidf_w2v_vectors_essay[0]))"
   ]
  },
  {
   "cell_type": "markdown",
   "metadata": {
    "colab_type": "text",
    "id": "v0niZGPZaJda"
   },
   "source": [
    "<h4><font color='red'> 1.4.2.9 Using Pretrained Models: TFIDF weighted W2V on `project_title`</font></h4>"
   ]
  },
  {
   "cell_type": "code",
   "execution_count": 188,
   "metadata": {
    "colab": {},
    "colab_type": "code",
    "id": "HoD70PX4aJdb"
   },
   "outputs": [],
   "source": [
    "# Similarly you can vectorize for tit# S = [\"abc def pqr\", \"def def def abc\", \"pqr pqr def\"]\n",
    "tfidf_model = TfidfVectorizer()\n",
    "tfidf_model.fit(cleaned_Proj_title)\n",
    "# we are converting a dictionary with word as a key, and the idf as a value\n",
    "dictionary = dict(zip(tfidf_model.get_feature_names(), list(tfidf_model.idf_)))\n",
    "tfidf_words_proj_title = set(tfidf_model.get_feature_names())"
   ]
  },
  {
   "cell_type": "code",
   "execution_count": 189,
   "metadata": {},
   "outputs": [
    {
     "name": "stderr",
     "output_type": "stream",
     "text": [
      "100%|███████████████████████████████████████████████████████████████████████████| 5000/5000 [00:00<00:00, 29453.02it/s]\n"
     ]
    },
    {
     "name": "stdout",
     "output_type": "stream",
     "text": [
      "5000\n",
      "300\n"
     ]
    }
   ],
   "source": [
    "# average Word2Vec\n",
    "# compute average word2vec for each review.\n",
    "tfidf_w2v_vectors_proj_title = []; # the avg-w2v for each sentence/review is stored in this list\n",
    "for sentence in tqdm(cleaned_Proj_title): # for each review/sentence\n",
    "    vector = np.zeros(300) # as word vectors are of zero length\n",
    "    tf_idf_weight =0; # num of words with a valid vector in the sentence/review\n",
    "    for word in sentence.split(): # for each word in a review/sentence\n",
    "        if (word in glove_words) and (word in tfidf_words_proj_title):\n",
    "            vec = model[word] # getting the vector for each word\n",
    "            # here we are multiplying idf value(dictionary[word]) and the tf value((sentence.count(word)/len(sentence.split())))\n",
    "            tf_idf = dictionary[word]*(sentence.count(word)/len(sentence.split())) # getting the tfidf value for each word\n",
    "            vector += (vec * tf_idf) # calculating tfidf weighted w2v\n",
    "            tf_idf_weight += tf_idf\n",
    "    if tf_idf_weight != 0:\n",
    "        vector /= tf_idf_weight\n",
    "    tfidf_w2v_vectors_proj_title.append(vector)\n",
    "\n",
    "print(len(tfidf_w2v_vectors_proj_title))\n",
    "print(len(tfidf_w2v_vectors_proj_title[0]))"
   ]
  },
  {
   "cell_type": "markdown",
   "metadata": {
    "colab_type": "text",
    "id": "K561nWdYaJdc"
   },
   "source": [
    "### 1.4.3 Vectorizing Numerical features"
   ]
  },
  {
   "cell_type": "code",
   "execution_count": 190,
   "metadata": {
    "colab": {},
    "colab_type": "code",
    "id": "6vv6ByvEaJdc",
    "outputId": "3ebfee20-a210-400d-b013-871c155ae0a0"
   },
   "outputs": [
    {
     "name": "stdout",
     "output_type": "stream",
     "text": [
      "Mean : 289.771854, Standard deviation : 310.38796282069745\n"
     ]
    }
   ],
   "source": [
    "# check this one: https://www.youtube.com/watch?v=0HOqOcln3Z4&t=530s\n",
    "# standardization sklearn: https://scikit-learn.org/stable/modules/generated/sklearn.preprocessing.StandardScaler.html\n",
    "from sklearn.preprocessing import StandardScaler\n",
    "\n",
    "# price_standardized = standardScalar.fit(project_data['price'].values)\n",
    "# this will rise the error\n",
    "# ValueError: Expected 2D array, got 1D array instead: array=[725.05 213.03 329.   ... 399.   287.73   5.5 ].\n",
    "# Reshape your data either using array.reshape(-1, 1)\n",
    "\n",
    "price_scalar = StandardScaler()\n",
    "price_scalar.fit(project_data['price'].values.reshape(-1,1)) # finding the mean and standard deviation of this data\n",
    "print(f\"Mean : {price_scalar.mean_[0]}, Standard deviation : {np.sqrt(price_scalar.var_[0])}\")\n",
    "\n",
    "# Now standardize the data with above maen and variance.\n",
    "price_standardized = price_scalar.transform(project_data['price'].values.reshape(-1, 1))"
   ]
  },
  {
   "cell_type": "code",
   "execution_count": 191,
   "metadata": {
    "colab": {},
    "colab_type": "code",
    "id": "EZJEWRkRaJde",
    "outputId": "032fea97-827e-4a15-8b09-163abb79524b"
   },
   "outputs": [
    {
     "data": {
      "text/plain": [
       "array([[ 0.82869884],\n",
       "       [-0.24125244],\n",
       "       [-0.37073556],\n",
       "       ...,\n",
       "       [-0.66700993],\n",
       "       [-0.38826201],\n",
       "       [ 0.21011815]])"
      ]
     },
     "execution_count": 191,
     "metadata": {},
     "output_type": "execute_result"
    }
   ],
   "source": [
    "price_standardized"
   ]
  },
  {
   "cell_type": "markdown",
   "metadata": {
    "colab_type": "text",
    "id": "dmLoJysFaJdh"
   },
   "source": [
    "### 1.4.4 Merging all the above features"
   ]
  },
  {
   "cell_type": "markdown",
   "metadata": {
    "colab_type": "text",
    "id": "RJvu3XjfaJdh"
   },
   "source": [
    "- we need to merge all the numerical vectors i.e catogorical, text, numerical vectors"
   ]
  },
  {
   "cell_type": "code",
   "execution_count": 216,
   "metadata": {
    "colab": {},
    "colab_type": "code",
    "id": "seTaZmC6aJdh",
    "outputId": "0e084662-2833-41de-f43a-d82f5caad810"
   },
   "outputs": [
    {
     "name": "stdout",
     "output_type": "stream",
     "text": [
      "(5000, 51)\n",
      "(5000, 9)\n",
      "(5000, 30)\n",
      "(5000, 4)\n",
      "(5000, 708)\n",
      "(5000, 708)\n",
      "(5000,300)\n",
      "(5000,300)\n",
      "(5000, 1)\n",
      "(5000, 1)\n",
      "<class 'numpy.ndarray'>\n",
      "<class 'scipy.sparse.csr.csr_matrix'>\n",
      "<class 'scipy.sparse.csr.csr_matrix'>\n",
      "<class 'numpy.ndarray'>\n",
      "<class 'scipy.sparse.csr.csr_matrix'>\n",
      "<class 'scipy.sparse.csr.csr_matrix'>\n",
      "<class 'list'>\n",
      "<class 'list'>\n",
      "<class 'numpy.ndarray'>\n",
      "<class 'numpy.ndarray'>\n"
     ]
    }
   ],
   "source": [
    "school_state =onehot_encoded_school_state\n",
    "print(school_state.shape)\n",
    "print(categories_one_hot.shape)\n",
    "print(sub_categories_one_hot.shape)\n",
    "print(onehot_encoded_tchr_prefix.shape)\n",
    "print(text_bow_proj_title.shape)\n",
    "print(text_tfidf_proj_title.shape)\n",
    "print(\"({},{})\".format(len(avg_w2v_vectors_proj_title),len(avg_w2v_vectors_proj_title[0])))\n",
    "print(\"({},{})\".format(len(tfidf_w2v_vectors_proj_title),len(tfidf_w2v_vectors_proj_title[0])))\n",
    "print(price_standardized.shape)\n",
    "no_of_prev_posted=project_data['teacher_number_of_previously_posted_projects']\n",
    "no_of_prev_posted=no_of_prev_posted[:,np.newaxis]\n",
    "print(no_of_prev_posted.shape)\n",
    "\n",
    "print(type(school_state))\n",
    "print(type(categories_one_hot))\n",
    "print(type(sub_categories_one_hot))\n",
    "print(type(onehot_encoded_tchr_prefix))\n",
    "print(type(text_bow_proj_title))\n",
    "print(type(text_tfidf_proj_title))\n",
    "print(type(avg_w2v_vectors_proj_title))\n",
    "print(type(tfidf_w2v_vectors_proj_title))\n",
    "print(type(price_standardized))\n",
    "print(type(price_standardized))\n",
    "\n"
   ]
  },
  {
   "cell_type": "code",
   "execution_count": 217,
   "metadata": {
    "colab": {},
    "colab_type": "code",
    "id": "OydwDfOOaJdj",
    "outputId": "16510e61-e8bc-4fdb-d7de-35b66c901307"
   },
   "outputs": [],
   "source": [
    "# merge two sparse matrices: https://stackoverflow.com/a/19710648/4084039\n",
    "from scipy.sparse import hstack\n",
    "\n",
    "# with the same hstack function we are concatinating a sparse matrix and a dense matirx :)\n",
    "X_bow = hstack((categories_one_hot, sub_categories_one_hot,onehot_encoded_tchr_prefix,\n",
    "            text_bow_proj_title\n",
    "            )).toarray()\n",
    "\n",
    "\n",
    "X_tfidf=  hstack((categories_one_hot, sub_categories_one_hot,onehot_encoded_tchr_prefix,\n",
    "            text_tfidf_proj_title\n",
    "            )).toarray()\n",
    "\n",
    "X_w2v= hstack((categories_one_hot, sub_categories_one_hot,onehot_encoded_tchr_prefix,\n",
    "            avg_w2v_vectors_proj_title\n",
    "            )).toarray()\n",
    "\n",
    "X_tfidf_w2v=hstack((categories_one_hot, sub_categories_one_hot,onehot_encoded_tchr_prefix,\n",
    "            tfidf_w2v_vectors_proj_title\n",
    "            )).toarray()\n",
    "\n",
    "\n",
    "\n",
    "\n",
    "\n"
   ]
  },
  {
   "cell_type": "code",
   "execution_count": 218,
   "metadata": {},
   "outputs": [
    {
     "name": "stdout",
     "output_type": "stream",
     "text": [
      "(5000, 804)\n",
      "(5000, 804)\n",
      "(5000, 396)\n",
      "(5000, 396)\n"
     ]
    }
   ],
   "source": [
    "\n",
    "bow_ds=np.concatenate((school_state,X_bow,price_standardized,no_of_prev_posted),axis =1)\n",
    "tfidf_ds=np.concatenate((school_state,X_tfidf,price_standardized,no_of_prev_posted),axis =1)\n",
    "w2v_ds=np.concatenate((school_state,X_w2v,price_standardized,no_of_prev_posted),axis =1)\n",
    "tfidf_w2v_ds=np.concatenate((school_state,X_tfidf_w2v,price_standardized,no_of_prev_posted),axis =1)\n",
    "\n",
    "print(bow_ds.shape)\n",
    "print(tfidf_ds.shape)\n",
    "print(w2v_ds.shape)\n",
    "print(tfidf_w2v_ds.shape)"
   ]
  },
  {
   "cell_type": "code",
   "execution_count": 219,
   "metadata": {},
   "outputs": [
    {
     "name": "stdout",
     "output_type": "stream",
     "text": [
      "(5000, 396)\n"
     ]
    }
   ],
   "source": [
    "X_full=hstack((categories_one_hot, sub_categories_one_hot,onehot_encoded_tchr_prefix,\n",
    "            text_bow_proj_title,text_tfidf_proj_title,avg_w2v_vectors_proj_title,tfidf_w2v_vectors_proj_title\n",
    "            )).toarray()\n",
    "\n",
    "Full_ds=np.concatenate((school_state,X_tfidf_w2v,price_standardized,no_of_prev_posted),axis =1)\n",
    "\n",
    "print(Full_ds.shape)"
   ]
  },
  {
   "cell_type": "markdown",
   "metadata": {
    "colab_type": "text",
    "id": "mRlLt2gdaJdl"
   },
   "source": [
    "<h1><font color='red'>Assignment 2: Apply TSNE<font></h1>"
   ]
  },
  {
   "cell_type": "markdown",
   "metadata": {
    "colab_type": "text",
    "id": "-zwoM-YWaJdl"
   },
   "source": [
    " <font color=#F4274F>If you are using any code snippet from the internet, you have to provide the reference/citations, as we did in the above cells. Otherwise, it will be treated as plagiarism without citations.</font>"
   ]
  },
  {
   "cell_type": "markdown",
   "metadata": {
    "colab_type": "text",
    "id": "FDLBdM0YaJdl"
   },
   "source": [
    "<ol> \n",
    "    <li> In the above cells we have plotted and analyzed many features. Please observe the plots and write the observations in markdown cells below every plot.</li>\n",
    "    <li> EDA: Please complete the analysis of the feature: teacher_number_of_previously_posted_projects</li>\n",
    "    <li>\n",
    "        <ul>Build the data matrix using these features \n",
    "            <li>school_state : categorical data (one hot encoding)</li>\n",
    "            <li>clean_categories : categorical data (one hot encoding)</li>\n",
    "            <li>clean_subcategories : categorical data (one hot encoding)</li>\n",
    "            <li>teacher_prefix : categorical data (one hot encoding)</li>\n",
    "            <li>project_title : text data (BOW, TFIDF, AVG W2V, TFIDF W2V)</li>\n",
    "            <li>price : numerical</li>\n",
    "            <li>teacher_number_of_previously_posted_projects : numerical</li>\n",
    "         </ul>\n",
    "    </li>\n",
    "    <li> Now, plot FOUR t-SNE plots with each of these feature sets.\n",
    "        <ol>\n",
    "            <li>categorical, numerical features + project_title(BOW)</li>\n",
    "            <li>categorical, numerical features + project_title(TFIDF)</li>\n",
    "            <li>categorical, numerical features + project_title(AVG W2V)</li>\n",
    "            <li>categorical, numerical features + project_title(TFIDF W2V)</li>\n",
    "        </ol>\n",
    "    </li>\n",
    "    <li> Concatenate all the features and Apply TNSE on the final data matrix </li>\n",
    "    <li> <font color='blue'>Note 1: The TSNE accepts only dense matrices</font></li>\n",
    "    <li> <font color='blue'>Note 2: Consider only 5k to 6k data points to avoid memory issues. If you run into memory error issues, reduce the number of data points but clearly state the number of datat-poins you are using</font></li>\n",
    "</ol>"
   ]
  },
  {
   "cell_type": "markdown",
   "metadata": {
    "colab_type": "text",
    "id": "x7fw05d3aJdm"
   },
   "source": [
    "<h2> 2.1 TSNE with `BOW` encoding of `project_title` feature </h2>"
   ]
  },
  {
   "cell_type": "code",
   "execution_count": 220,
   "metadata": {},
   "outputs": [
    {
     "data": {
      "text/html": [
       "<div>\n",
       "<style scoped>\n",
       "    .dataframe tbody tr th:only-of-type {\n",
       "        vertical-align: middle;\n",
       "    }\n",
       "\n",
       "    .dataframe tbody tr th {\n",
       "        vertical-align: top;\n",
       "    }\n",
       "\n",
       "    .dataframe thead th {\n",
       "        text-align: right;\n",
       "    }\n",
       "</style>\n",
       "<table border=\"1\" class=\"dataframe\">\n",
       "  <thead>\n",
       "    <tr style=\"text-align: right;\">\n",
       "      <th></th>\n",
       "      <th>0</th>\n",
       "      <th>1</th>\n",
       "      <th>2</th>\n",
       "      <th>3</th>\n",
       "      <th>4</th>\n",
       "      <th>5</th>\n",
       "      <th>6</th>\n",
       "      <th>7</th>\n",
       "      <th>8</th>\n",
       "      <th>9</th>\n",
       "      <th>...</th>\n",
       "      <th>794</th>\n",
       "      <th>795</th>\n",
       "      <th>796</th>\n",
       "      <th>797</th>\n",
       "      <th>798</th>\n",
       "      <th>799</th>\n",
       "      <th>800</th>\n",
       "      <th>801</th>\n",
       "      <th>802</th>\n",
       "      <th>803</th>\n",
       "    </tr>\n",
       "  </thead>\n",
       "  <tbody>\n",
       "    <tr>\n",
       "      <th>0</th>\n",
       "      <td>0.0</td>\n",
       "      <td>0.0</td>\n",
       "      <td>0.0</td>\n",
       "      <td>0.0</td>\n",
       "      <td>0.0</td>\n",
       "      <td>0.0</td>\n",
       "      <td>1.0</td>\n",
       "      <td>0.0</td>\n",
       "      <td>0.0</td>\n",
       "      <td>0.0</td>\n",
       "      <td>...</td>\n",
       "      <td>0.0</td>\n",
       "      <td>0.0</td>\n",
       "      <td>0.0</td>\n",
       "      <td>0.0</td>\n",
       "      <td>0.0</td>\n",
       "      <td>0.0</td>\n",
       "      <td>0.0</td>\n",
       "      <td>0.0</td>\n",
       "      <td>0.828699</td>\n",
       "      <td>0.0</td>\n",
       "    </tr>\n",
       "    <tr>\n",
       "      <th>1</th>\n",
       "      <td>0.0</td>\n",
       "      <td>1.0</td>\n",
       "      <td>0.0</td>\n",
       "      <td>0.0</td>\n",
       "      <td>0.0</td>\n",
       "      <td>0.0</td>\n",
       "      <td>0.0</td>\n",
       "      <td>0.0</td>\n",
       "      <td>0.0</td>\n",
       "      <td>0.0</td>\n",
       "      <td>...</td>\n",
       "      <td>0.0</td>\n",
       "      <td>0.0</td>\n",
       "      <td>0.0</td>\n",
       "      <td>0.0</td>\n",
       "      <td>0.0</td>\n",
       "      <td>0.0</td>\n",
       "      <td>0.0</td>\n",
       "      <td>0.0</td>\n",
       "      <td>-0.241252</td>\n",
       "      <td>2.0</td>\n",
       "    </tr>\n",
       "    <tr>\n",
       "      <th>2</th>\n",
       "      <td>0.0</td>\n",
       "      <td>0.0</td>\n",
       "      <td>0.0</td>\n",
       "      <td>0.0</td>\n",
       "      <td>0.0</td>\n",
       "      <td>0.0</td>\n",
       "      <td>0.0</td>\n",
       "      <td>0.0</td>\n",
       "      <td>0.0</td>\n",
       "      <td>0.0</td>\n",
       "      <td>...</td>\n",
       "      <td>0.0</td>\n",
       "      <td>0.0</td>\n",
       "      <td>0.0</td>\n",
       "      <td>0.0</td>\n",
       "      <td>0.0</td>\n",
       "      <td>0.0</td>\n",
       "      <td>0.0</td>\n",
       "      <td>0.0</td>\n",
       "      <td>-0.370736</td>\n",
       "      <td>1.0</td>\n",
       "    </tr>\n",
       "    <tr>\n",
       "      <th>3</th>\n",
       "      <td>0.0</td>\n",
       "      <td>0.0</td>\n",
       "      <td>0.0</td>\n",
       "      <td>0.0</td>\n",
       "      <td>0.0</td>\n",
       "      <td>0.0</td>\n",
       "      <td>0.0</td>\n",
       "      <td>0.0</td>\n",
       "      <td>0.0</td>\n",
       "      <td>0.0</td>\n",
       "      <td>...</td>\n",
       "      <td>0.0</td>\n",
       "      <td>0.0</td>\n",
       "      <td>0.0</td>\n",
       "      <td>0.0</td>\n",
       "      <td>0.0</td>\n",
       "      <td>0.0</td>\n",
       "      <td>0.0</td>\n",
       "      <td>0.0</td>\n",
       "      <td>1.588941</td>\n",
       "      <td>11.0</td>\n",
       "    </tr>\n",
       "    <tr>\n",
       "      <th>4</th>\n",
       "      <td>0.0</td>\n",
       "      <td>0.0</td>\n",
       "      <td>0.0</td>\n",
       "      <td>0.0</td>\n",
       "      <td>0.0</td>\n",
       "      <td>0.0</td>\n",
       "      <td>0.0</td>\n",
       "      <td>0.0</td>\n",
       "      <td>0.0</td>\n",
       "      <td>0.0</td>\n",
       "      <td>...</td>\n",
       "      <td>0.0</td>\n",
       "      <td>0.0</td>\n",
       "      <td>0.0</td>\n",
       "      <td>0.0</td>\n",
       "      <td>0.0</td>\n",
       "      <td>0.0</td>\n",
       "      <td>0.0</td>\n",
       "      <td>0.0</td>\n",
       "      <td>-0.305656</td>\n",
       "      <td>0.0</td>\n",
       "    </tr>\n",
       "  </tbody>\n",
       "</table>\n",
       "<p>5 rows × 804 columns</p>\n",
       "</div>"
      ],
      "text/plain": [
       "   0    1    2    3    4    5    6    7    8    9    ...   794  795  796  797  \\\n",
       "0  0.0  0.0  0.0  0.0  0.0  0.0  1.0  0.0  0.0  0.0  ...   0.0  0.0  0.0  0.0   \n",
       "1  0.0  1.0  0.0  0.0  0.0  0.0  0.0  0.0  0.0  0.0  ...   0.0  0.0  0.0  0.0   \n",
       "2  0.0  0.0  0.0  0.0  0.0  0.0  0.0  0.0  0.0  0.0  ...   0.0  0.0  0.0  0.0   \n",
       "3  0.0  0.0  0.0  0.0  0.0  0.0  0.0  0.0  0.0  0.0  ...   0.0  0.0  0.0  0.0   \n",
       "4  0.0  0.0  0.0  0.0  0.0  0.0  0.0  0.0  0.0  0.0  ...   0.0  0.0  0.0  0.0   \n",
       "\n",
       "   798  799  800  801       802   803  \n",
       "0  0.0  0.0  0.0  0.0  0.828699   0.0  \n",
       "1  0.0  0.0  0.0  0.0 -0.241252   2.0  \n",
       "2  0.0  0.0  0.0  0.0 -0.370736   1.0  \n",
       "3  0.0  0.0  0.0  0.0  1.588941  11.0  \n",
       "4  0.0  0.0  0.0  0.0 -0.305656   0.0  \n",
       "\n",
       "[5 rows x 804 columns]"
      ]
     },
     "execution_count": 220,
     "metadata": {},
     "output_type": "execute_result"
    }
   ],
   "source": [
    "bow_ds.head(5)\n",
    "project_data['']"
   ]
  },
  {
   "cell_type": "code",
   "execution_count": 248,
   "metadata": {
    "colab": {},
    "colab_type": "code",
    "id": "LV9EaK_EaJdm"
   },
   "outputs": [],
   "source": [
    "# Applied AI course material \n",
    "from sklearn.manifold import TSNE\n",
    "\n",
    "labels=project_data['project_is_approved']\n",
    "\n",
    "model =TSNE(n_components=2, random_state=0)\n",
    "# configuring the parameteres\n",
    "# the number of components = 2\n",
    "# default perplexity = 30\n",
    "# default learning rate = 200\n",
    "# default Maximum number of iterations for the optimization = 1000\n",
    "\n",
    "tsne_data_bow = model.fit_transform(bow_ds)\n",
    "\n"
   ]
  },
  {
   "cell_type": "code",
   "execution_count": 249,
   "metadata": {},
   "outputs": [],
   "source": [
    "temp=tsne_data_bow"
   ]
  },
  {
   "cell_type": "code",
   "execution_count": 252,
   "metadata": {},
   "outputs": [
    {
     "name": "stdout",
     "output_type": "stream",
     "text": [
      "(5000, 2)\n",
      "(5000, 1)\n"
     ]
    }
   ],
   "source": [
    "labels=labels[:,np.newaxis]\n",
    "print(tsne_data_bow.shape)\n",
    "print(labels.shape)\n",
    "\n"
   ]
  },
  {
   "cell_type": "code",
   "execution_count": 258,
   "metadata": {},
   "outputs": [
    {
     "data": {
      "image/png": "[encoded data removed]",
      "text/plain": [
       "<Figure size 483.875x432 with 1 Axes>"
      ]
     },
     "metadata": {},
     "output_type": "display_data"
    }
   ],
   "source": [
    "#creating a new data frame which help us in ploting the result data\n",
    "temp1 = np.concatenate((temp, labels),axis=1)\n",
    "temp1 = pd.DataFrame(data=temp1, columns=(\"Dim_1\", \"Dim_2\", \"label\"))\n",
    "\n",
    "# Ploting the result of tsne\n",
    "sns.FacetGrid(temp1, hue=\"label\", size=6).map(plt.scatter, 'Dim_1', 'Dim_2').add_legend()\n",
    "plt.title(\"T-SNE for Bag of words\")\n",
    "plt.show()"
   ]
  },
  {
   "cell_type": "markdown",
   "metadata": {
    "colab_type": "text",
    "id": "CuY7n7R1aJdn"
   },
   "source": [
    "<h2> 2.2 TSNE with `TFIDF` encoding of `project_title` feature </h2>"
   ]
  },
  {
   "cell_type": "code",
   "execution_count": 265,
   "metadata": {
    "colab": {},
    "colab_type": "code",
    "id": "0TbvWQC-aJdo"
   },
   "outputs": [
    {
     "data": {
      "image/png": "[encoded data removed]",
      "text/plain": [
       "<Figure size 483.875x432 with 1 Axes>"
      ]
     },
     "metadata": {},
     "output_type": "display_data"
    }
   ],
   "source": [
    "model =TSNE(n_components=2, random_state=0)\n",
    "tsne_data_tfidf = model.fit_transform(tfidf_ds)\n",
    "temp=tsne_data_tfidf\n",
    "#creating a new data frame which help us in ploting the result data\n",
    "temp1 = np.concatenate((temp, labels),axis=1)\n",
    "temp1 = pd.DataFrame(data=temp1, columns=(\"Dim_1\", \"Dim_2\", \"label\"))\n",
    "\n",
    "# Ploting the result of tsne\n",
    "sns.FacetGrid(temp1, hue=\"label\", size=6).map(plt.scatter, 'Dim_1', 'Dim_2').add_legend()\n",
    "plt.title(\"T-SNE for TFIDF\")\n",
    "plt.show()"
   ]
  },
  {
   "cell_type": "markdown",
   "metadata": {
    "colab_type": "text",
    "id": "czDsl9x3aJdp"
   },
   "source": [
    "<h2> 2.3 TSNE with `AVG W2V` encoding of `project_title` feature </h2>"
   ]
  },
  {
   "cell_type": "code",
   "execution_count": 266,
   "metadata": {
    "colab": {},
    "colab_type": "code",
    "id": "asj0ZHT9aJdp"
   },
   "outputs": [
    {
     "data": {
      "image/png": "[encoded data removed]",
      "text/plain": [
       "<Figure size 483.875x432 with 1 Axes>"
      ]
     },
     "metadata": {},
     "output_type": "display_data"
    }
   ],
   "source": [
    "model =TSNE(n_components=2, random_state=0)\n",
    "tsne_data_w2v = model.fit_transform(w2v_ds)\n",
    "temp=tsne_data_w2v\n",
    "#creating a new data frame which help us in ploting the result data\n",
    "temp1 = np.concatenate((temp, labels),axis=1)\n",
    "temp1 = pd.DataFrame(data=temp1, columns=(\"Dim_1\", \"Dim_2\", \"label\"))\n",
    "\n",
    "# Ploting the result of tsne\n",
    "sns.FacetGrid(temp1, hue=\"label\", size=6).map(plt.scatter, 'Dim_1', 'Dim_2').add_legend()\n",
    "plt.title(\"T-SNE for avg w2v\")\n",
    "plt.show()"
   ]
  },
  {
   "cell_type": "markdown",
   "metadata": {
    "colab_type": "text",
    "id": "ECdD3thraJdq"
   },
   "source": [
    "<h2> 2.4 TSNE with `TFIDF Weighted W2V` encoding of `project_title` feature </h2>"
   ]
  },
  {
   "cell_type": "code",
   "execution_count": 267,
   "metadata": {
    "colab": {},
    "colab_type": "code",
    "id": "A71FEBr3aJdr"
   },
   "outputs": [
    {
     "data": {
      "image/png": "[encoded data removed]",
      "text/plain": [
       "<Figure size 483.875x432 with 1 Axes>"
      ]
     },
     "metadata": {},
     "output_type": "display_data"
    }
   ],
   "source": [
    "model =TSNE(n_components=2, random_state=0)\n",
    "tsne_data_tfidf_w2v = model.fit_transform(tfidf_w2v_ds)\n",
    "temp=tsne_data_tfidf_w2v\n",
    "#creating a new data frame which help us in ploting the result data\n",
    "temp1 = np.concatenate((temp, labels),axis=1)\n",
    "temp1 = pd.DataFrame(data=temp1, columns=(\"Dim_1\", \"Dim_2\", \"label\"))\n",
    "\n",
    "# Ploting the result of tsne\n",
    "sns.FacetGrid(temp1, hue=\"label\", size=6).map(plt.scatter, 'Dim_1', 'Dim_2').add_legend()\n",
    "plt.title(\"T-SNE for tfidf-w2v\")\n",
    "plt.show()"
   ]
  },
  {
   "cell_type": "markdown",
   "metadata": {},
   "source": [
    "## TSNE with all the  of project_title feature "
   ]
  },
  {
   "cell_type": "code",
   "execution_count": 269,
   "metadata": {},
   "outputs": [
    {
     "data": {
      "image/png": "[encoded data removed]",
      "text/plain": [
       "<Figure size 483.875x432 with 1 Axes>"
      ]
     },
     "metadata": {},
     "output_type": "display_data"
    }
   ],
   "source": [
    "model =TSNE(n_components=2, random_state=0)\n",
    "tsne_data_full = model.fit_transform(Full_ds)\n",
    "temp=tsne_data_full\n",
    "#creating a new data frame which help us in ploting the result data\n",
    "temp1 = np.concatenate((temp, labels),axis=1)\n",
    "temp1 = pd.DataFrame(data=temp1, columns=(\"Dim_1\", \"Dim_2\", \"label\"))\n",
    "\n",
    "# Ploting the result of tsne\n",
    "sns.FacetGrid(temp1, hue=\"label\", size=6).map(plt.scatter, 'Dim_1', 'Dim_2').add_legend()\n",
    "plt.title(\"T-SNE for full DS \")\n",
    "plt.show()"
   ]
  },
  {
   "cell_type": "markdown",
   "metadata": {
    "colab_type": "text",
    "id": "4jar5LL2aJds"
   },
   "source": [
    "<h2> 2.5 Summary </h2>"
   ]
  },
  {
   "cell_type": "markdown",
   "metadata": {
    "colab": {},
    "colab_type": "code",
    "id": "HoiCkx7iaJds"
   },
   "source": [
    "<h4>\n",
    "EDA: <br />\n",
    "1.  Probability of a project getting approved slightly depends of the PreFix of the Teacher. (Mr Mrs Ms etc ) <br /> \n",
    "2.   Lower grade teachers have a slightly higher chance of getting their project approved. (Prek2- grade2 etc) <br /> \n",
    "3.  Having more words makes it more descriptive and hence leads to increased probablity approval. (essay, Project Title etc) <br /> \n",
    "4.  It is quite evident that lower pricing projects have higher approval rates.\n",
    "<h4/>\n",
    "    \n"
   ]
  },
  {
   "cell_type": "code",
   "execution_count": null,
   "metadata": {},
   "outputs": [],
   "source": []
  }
 ],
 "metadata": {
  "colab": {
   "collapsed_sections": [
    "df7aw9znaJbU",
    "KLkWseiHaJbY",
    "ODDsS25MaJbd",
    "hqnsApdoaJbv",
    "MDUTl1iAaJcC",
    "eWIdgjtHaJcM",
    "eAr4K8J4aJcV",
    "hV8-QvxGaJcm",
    "3KP4HQ2xaJc8",
    "umi63xCcaJdD",
    "oMHWIrroaJdE",
    "sKXhBeHZaJdK",
    "RDYCGTBvaJdP",
    "yJWbIFXKaJdW"
   ],
   "name": "2_DonorsChoose_EDA_TSNE.ipynb",
   "provenance": [],
   "version": "0.3.2"
  },
  "kernelspec": {
   "display_name": "Python 3",
   "language": "python",
   "name": "python3"
  },
  "language_info": {
   "codemirror_mode": {
    "name": "ipython",
    "version": 3
   },
   "file_extension": ".py",
   "mimetype": "text/x-python",
   "name": "python",
   "nbconvert_exporter": "python",
   "pygments_lexer": "ipython3",
   "version": "3.6.5"
  }
 },
 "nbformat": 4,
 "nbformat_minor": 1
}
